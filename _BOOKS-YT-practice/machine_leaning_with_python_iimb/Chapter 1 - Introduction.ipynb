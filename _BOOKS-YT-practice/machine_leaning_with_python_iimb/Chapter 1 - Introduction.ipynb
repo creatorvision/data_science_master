{
 "cells": [
  {
   "cell_type": "code",
   "execution_count": 1,
   "id": "7ec7c14f",
   "metadata": {},
   "outputs": [
    {
     "name": "stdout",
     "output_type": "stream",
     "text": [
      "5\n"
     ]
    }
   ],
   "source": [
    "def addElements(a,b):\n",
    "    return a+b\n",
    "\n",
    "print(addElements(2,3))"
   ]
  },
  {
   "cell_type": "code",
   "execution_count": 2,
   "id": "398dabdf",
   "metadata": {},
   "outputs": [],
   "source": [
    "batsmen = ['Rohit', 'Dhawan', 'Kohli', 'Rahane', 'Rayudu', 'Dhoni'] "
   ]
  },
  {
   "cell_type": "code",
   "execution_count": 3,
   "id": "c7a76f71",
   "metadata": {},
   "outputs": [],
   "source": [
    "bowlers = ['Bumrah', 'Shami', 'Bhuvi', 'Kuldeep', 'Chahal'] "
   ]
  },
  {
   "cell_type": "code",
   "execution_count": 4,
   "id": "07734e6e",
   "metadata": {},
   "outputs": [],
   "source": [
    "all_players = [batsmen,bowlers] \n",
    "\n",
    "# making list of list instead of making one big list like the example mentioned in the book , just to try differently"
   ]
  },
  {
   "cell_type": "code",
   "execution_count": 5,
   "id": "00bf9060",
   "metadata": {},
   "outputs": [
    {
     "name": "stdout",
     "output_type": "stream",
     "text": [
      "[['Rohit', 'Dhawan', 'Kohli', 'Rahane', 'Rayudu', 'Dhoni'], ['Bumrah', 'Shami', 'Bhuvi', 'Kuldeep', 'Chahal']]\n"
     ]
    }
   ],
   "source": [
    "print(all_players)"
   ]
  },
  {
   "cell_type": "code",
   "execution_count": 6,
   "id": "906d7a6f",
   "metadata": {},
   "outputs": [
    {
     "data": {
      "text/plain": [
       "'Rohit'"
      ]
     },
     "execution_count": 6,
     "metadata": {},
     "output_type": "execute_result"
    }
   ],
   "source": [
    "all_players[0][0]"
   ]
  },
  {
   "cell_type": "code",
   "execution_count": 7,
   "id": "19c7dfaf",
   "metadata": {},
   "outputs": [
    {
     "data": {
      "text/plain": [
       "True"
      ]
     },
     "execution_count": 7,
     "metadata": {},
     "output_type": "execute_result"
    }
   ],
   "source": [
    "'Rohit' in batsmen"
   ]
  },
  {
   "cell_type": "code",
   "execution_count": 8,
   "id": "c65cf239",
   "metadata": {},
   "outputs": [
    {
     "data": {
      "text/plain": [
       "False"
      ]
     },
     "execution_count": 8,
     "metadata": {},
     "output_type": "execute_result"
    }
   ],
   "source": [
    "'Rayudu' in bowlers "
   ]
  },
  {
   "cell_type": "code",
   "execution_count": 9,
   "id": "334a471d",
   "metadata": {},
   "outputs": [
    {
     "data": {
      "text/plain": [
       "5"
      ]
     },
     "execution_count": 9,
     "metadata": {},
     "output_type": "execute_result"
    }
   ],
   "source": [
    "all_players[0].index('Dhoni')"
   ]
  },
  {
   "cell_type": "code",
   "execution_count": 10,
   "id": "794d60e5",
   "metadata": {},
   "outputs": [
    {
     "name": "stdout",
     "output_type": "stream",
     "text": [
      "['Rohit', 'Dhawan', 'Kohli', 'Rahane', 'Rayudu', 'Dhoni']\n",
      "['Dhoni', 'Rayudu', 'Rahane', 'Kohli', 'Dhawan', 'Rohit']\n",
      "['Bumrah', 'Shami', 'Bhuvi', 'Kuldeep', 'Chahal']\n",
      "['Chahal', 'Kuldeep', 'Bhuvi', 'Shami', 'Bumrah']\n",
      "[['Dhoni', 'Rayudu', 'Rahane', 'Kohli', 'Dhawan', 'Rohit'], ['Chahal', 'Kuldeep', 'Bhuvi', 'Shami', 'Bumrah']]\n"
     ]
    }
   ],
   "source": [
    "for a in all_players:\n",
    "    print(a)\n",
    "    a.reverse()\n",
    "    print(a)\n",
    "    \n",
    "# all_players.reverse()\n",
    "print(all_players)"
   ]
  },
  {
   "cell_type": "code",
   "execution_count": 11,
   "id": "c29997e0",
   "metadata": {},
   "outputs": [
    {
     "name": "stdout",
     "output_type": "stream",
     "text": [
      "[['Chahal', 'Kuldeep', 'Bhuvi', 'Shami', 'Bumrah'], ['Dhoni', 'Rayudu', 'Rahane', 'Kohli', 'Dhawan', 'Rohit']]\n"
     ]
    }
   ],
   "source": [
    "all_players.reverse()\n",
    "print(all_players)"
   ]
  },
  {
   "cell_type": "code",
   "execution_count": 12,
   "id": "e43bd1ee",
   "metadata": {},
   "outputs": [],
   "source": [
    "odiDebut = ( 'Kohli', 2008 ) "
   ]
  },
  {
   "cell_type": "code",
   "execution_count": 13,
   "id": "584322ef",
   "metadata": {},
   "outputs": [
    {
     "data": {
      "text/plain": [
       "'Kohli'"
      ]
     },
     "execution_count": 13,
     "metadata": {},
     "output_type": "execute_result"
    }
   ],
   "source": [
    "odiDebut[0]"
   ]
  },
  {
   "cell_type": "code",
   "execution_count": 14,
   "id": "1eab1392",
   "metadata": {},
   "outputs": [
    {
     "data": {
      "text/plain": [
       "2008"
      ]
     },
     "execution_count": 14,
     "metadata": {},
     "output_type": "execute_result"
    }
   ],
   "source": [
    "odiDebut[1]"
   ]
  },
  {
   "cell_type": "code",
   "execution_count": 15,
   "id": "4d4ae8a4",
   "metadata": {},
   "outputs": [],
   "source": [
    "all_player = bowlers + batsmen\n",
    "players = tuple( all_player ) "
   ]
  },
  {
   "cell_type": "code",
   "execution_count": 16,
   "id": "1eac6ce7",
   "metadata": {},
   "outputs": [
    {
     "data": {
      "text/plain": [
       "('Chahal',\n",
       " 'Kuldeep',\n",
       " 'Bhuvi',\n",
       " 'Shami',\n",
       " 'Bumrah',\n",
       " 'Dhoni',\n",
       " 'Rayudu',\n",
       " 'Rahane',\n",
       " 'Kohli',\n",
       " 'Dhawan',\n",
       " 'Rohit')"
      ]
     },
     "execution_count": 16,
     "metadata": {},
     "output_type": "execute_result"
    }
   ],
   "source": [
    "players"
   ]
  },
  {
   "cell_type": "code",
   "execution_count": 17,
   "id": "0a5c1902",
   "metadata": {},
   "outputs": [],
   "source": [
    "wc2011 = {\"Dhoni\", \"Sehwag\", \"Tendulkar\", \"Gambhir\", \"Kohli\", \"Raina\", \"Yuvraj\",\n",
    "\"Yusuf\"}\n",
    "wc2015 = {\"Dhoni\", \"Dhawan\", \"Rohit\", \"Rahane\", \"Kohli\", \"Raina\", \"Rayudu\", \"Jadeja\"} "
   ]
  },
  {
   "cell_type": "code",
   "execution_count": 18,
   "id": "48ba80f4",
   "metadata": {},
   "outputs": [
    {
     "data": {
      "text/plain": [
       "{'Dhawan',\n",
       " 'Dhoni',\n",
       " 'Gambhir',\n",
       " 'Jadeja',\n",
       " 'Kohli',\n",
       " 'Rahane',\n",
       " 'Raina',\n",
       " 'Rayudu',\n",
       " 'Rohit',\n",
       " 'Sehwag',\n",
       " 'Tendulkar',\n",
       " 'Yusuf',\n",
       " 'Yuvraj'}"
      ]
     },
     "execution_count": 18,
     "metadata": {},
     "output_type": "execute_result"
    }
   ],
   "source": [
    "wc2011.union(wc2015)"
   ]
  },
  {
   "cell_type": "code",
   "execution_count": 19,
   "id": "09442581",
   "metadata": {},
   "outputs": [
    {
     "data": {
      "text/plain": [
       "{'Dhoni', 'Kohli', 'Raina'}"
      ]
     },
     "execution_count": 19,
     "metadata": {},
     "output_type": "execute_result"
    }
   ],
   "source": [
    "wc2011.intersection(wc2015)"
   ]
  },
  {
   "cell_type": "code",
   "execution_count": 20,
   "id": "35838ba5",
   "metadata": {},
   "outputs": [
    {
     "data": {
      "text/plain": [
       "{'Gambhir', 'Sehwag', 'Tendulkar', 'Yusuf', 'Yuvraj'}"
      ]
     },
     "execution_count": 20,
     "metadata": {},
     "output_type": "execute_result"
    }
   ],
   "source": [
    "wc2011.difference(wc2015)"
   ]
  },
  {
   "cell_type": "code",
   "execution_count": 21,
   "id": "0b8d69fa",
   "metadata": {},
   "outputs": [],
   "source": [
    "wcWinners = { 1975: \"West Indies\",\n",
    "1979: \"West Indies\",\n",
    "1983: \"India\",\n",
    "1987: \"Australia\",\n",
    "1991: \"Pakistan\",\n",
    "1996: \"Srilanka\",\n",
    "1999: \"Australia\",\n",
    "2003: \"Australia\",\n",
    "2007: \"Australia\",\n",
    "2011: \"India\"} "
   ]
  },
  {
   "cell_type": "code",
   "execution_count": 22,
   "id": "d562ad53",
   "metadata": {},
   "outputs": [
    {
     "data": {
      "text/plain": [
       "'India'"
      ]
     },
     "execution_count": 22,
     "metadata": {},
     "output_type": "execute_result"
    }
   ],
   "source": [
    "wcWinners[1983]"
   ]
  },
  {
   "cell_type": "code",
   "execution_count": 23,
   "id": "1e7564e9",
   "metadata": {},
   "outputs": [
    {
     "data": {
      "text/plain": [
       "dict_values(['West Indies', 'West Indies', 'India', 'Australia', 'Pakistan', 'Srilanka', 'Australia', 'Australia', 'Australia', 'India'])"
      ]
     },
     "execution_count": 23,
     "metadata": {},
     "output_type": "execute_result"
    }
   ],
   "source": [
    "wcWinners.values()"
   ]
  },
  {
   "cell_type": "code",
   "execution_count": 28,
   "id": "7a74f297",
   "metadata": {},
   "outputs": [
    {
     "data": {
      "text/plain": [
       "{1975: 'West Indies',\n",
       " 1979: 'West Indies',\n",
       " 1983: 'India',\n",
       " 1987: 'Australia',\n",
       " 1991: 'Pakistan',\n",
       " 1996: 'Srilanka',\n",
       " 1999: 'Australia',\n",
       " 2003: 'Australia',\n",
       " 2007: 'Australia',\n",
       " 2011: 'India',\n",
       " 2015: 'Australia'}"
      ]
     },
     "execution_count": 28,
     "metadata": {},
     "output_type": "execute_result"
    }
   ],
   "source": [
    "wcWinners[2015] = 'Australia'\n",
    "wcWinners"
   ]
  },
  {
   "cell_type": "code",
   "execution_count": 29,
   "id": "3dd2f986",
   "metadata": {},
   "outputs": [
    {
     "data": {
      "text/plain": [
       "'PYTHON'"
      ]
     },
     "execution_count": 29,
     "metadata": {},
     "output_type": "execute_result"
    }
   ],
   "source": [
    "string0='python'\n",
    "string1='machine learning'\n",
    "string0.upper()"
   ]
  },
  {
   "cell_type": "code",
   "execution_count": 30,
   "id": "6e116150",
   "metadata": {},
   "outputs": [
    {
     "data": {
      "text/plain": [
       "['machine', 'learning']"
      ]
     },
     "execution_count": 30,
     "metadata": {},
     "output_type": "execute_result"
    }
   ],
   "source": [
    "string1.split()"
   ]
  },
  {
   "cell_type": "code",
   "execution_count": 31,
   "id": "01851eb4",
   "metadata": {},
   "outputs": [],
   "source": [
    "intlist = [1,2,3,4,5,6,7,8,9,11]"
   ]
  },
  {
   "cell_type": "code",
   "execution_count": 32,
   "id": "2e076825",
   "metadata": {},
   "outputs": [
    {
     "name": "stdout",
     "output_type": "stream",
     "text": [
      "[1, 4, 9, 16, 25, 36, 49, 64, 81, 121]\n"
     ]
    }
   ],
   "source": [
    "sqlist=[]\n",
    "for x in intlist:\n",
    "    sqlist.append(pow(x,2))\n",
    "    \n",
    "print(sqlist)"
   ]
  },
  {
   "cell_type": "code",
   "execution_count": 35,
   "id": "c8e9d336",
   "metadata": {},
   "outputs": [
    {
     "data": {
      "text/plain": [
       "[1, 4, 9, 16, 25, 36, 49, 64, 81, 121]"
      ]
     },
     "execution_count": 35,
     "metadata": {},
     "output_type": "execute_result"
    }
   ],
   "source": [
    "def sqme(x):\n",
    "    return x*x\n",
    "\n",
    "sqlist1 = map(sqme, intlist)\n",
    "list(sqlist1)"
   ]
  },
  {
   "cell_type": "code",
   "execution_count": 36,
   "id": "5ed0befe",
   "metadata": {},
   "outputs": [
    {
     "data": {
      "text/plain": [
       "[1, 4, 9, 16, 25, 36, 49, 64, 81, 121]"
      ]
     },
     "execution_count": 36,
     "metadata": {},
     "output_type": "execute_result"
    }
   ],
   "source": [
    "sqlist2 = map(lambda X:X*X, intlist) ## Anonymous function \n",
    "list(sqlist2)"
   ]
  },
  {
   "cell_type": "code",
   "execution_count": 38,
   "id": "01891f90",
   "metadata": {},
   "outputs": [
    {
     "data": {
      "text/plain": [
       "[2, 4, 6, 8]"
      ]
     },
     "execution_count": 38,
     "metadata": {},
     "output_type": "execute_result"
    }
   ],
   "source": [
    "evenints = filter(lambda x: x%2==0, intlist)\n",
    "list(evenints)"
   ]
  },
  {
   "cell_type": "code",
   "execution_count": 43,
   "id": "df56ef96",
   "metadata": {},
   "outputs": [
    {
     "name": "stdout",
     "output_type": "stream",
     "text": [
      "[3, 7, 2]\n"
     ]
    }
   ],
   "source": [
    "from random import sample\n",
    "\n",
    "s= sample(range(0,11),3)\n",
    "print(s)"
   ]
  },
  {
   "cell_type": "code",
   "execution_count": 45,
   "id": "8bfe6a28",
   "metadata": {},
   "outputs": [
    {
     "data": {
      "text/plain": [
       "[70, 93, 47, 88, 77, 27, 65, 4, 33, 9, 28, 13, 11, 95, 24, 22, 35, 64, 20, 76]"
      ]
     },
     "execution_count": 45,
     "metadata": {},
     "output_type": "execute_result"
    }
   ],
   "source": [
    "import random\n",
    "\n",
    "randomlist =random.sample(range(0,100),20)\n",
    "randomlist"
   ]
  },
  {
   "cell_type": "code",
   "execution_count": 46,
   "id": "a7a6bf84",
   "metadata": {},
   "outputs": [
    {
     "name": "stdout",
     "output_type": "stream",
     "text": [
      "Mean is : 45.05 and Median is :  34.0\n"
     ]
    }
   ],
   "source": [
    "from statistics import mean,median\n",
    "\n",
    "def getMeanandMedian(listnum):\n",
    "    return mean(listnum), median(listnum)\n",
    "\n",
    "mean, median = getMeanandMedian(randomlist)\n",
    "print(\"Mean is :\", mean, \"and Median is : \", median)"
   ]
  },
  {
   "cell_type": "code",
   "execution_count": null,
   "id": "afd14295",
   "metadata": {},
   "outputs": [],
   "source": []
  }
 ],
 "metadata": {
  "kernelspec": {
   "display_name": "Python 3 (ipykernel)",
   "language": "python",
   "name": "python3"
  },
  "language_info": {
   "codemirror_mode": {
    "name": "ipython",
    "version": 3
   },
   "file_extension": ".py",
   "mimetype": "text/x-python",
   "name": "python",
   "nbconvert_exporter": "python",
   "pygments_lexer": "ipython3",
   "version": "3.9.12"
  }
 },
 "nbformat": 4,
 "nbformat_minor": 5
}
