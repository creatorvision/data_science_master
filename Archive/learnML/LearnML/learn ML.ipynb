{
 "cells": [
  {
   "cell_type": "code",
   "execution_count": 3,
   "id": "e00b6508",
   "metadata": {},
   "outputs": [
    {
     "name": "stdout",
     "output_type": "stream",
     "text": [
      "Requirement already satisfied: nltk in c:\\users\\creat\\anaconda3\\lib\\site-packages (3.6.5)\n",
      "Requirement already satisfied: click in c:\\users\\creat\\anaconda3\\lib\\site-packages (from nltk) (8.0.3)\n",
      "Requirement already satisfied: joblib in c:\\users\\creat\\anaconda3\\lib\\site-packages (from nltk) (1.2.0)\n",
      "Requirement already satisfied: regex>=2021.8.3 in c:\\users\\creat\\anaconda3\\lib\\site-packages (from nltk) (2021.8.3)\n",
      "Requirement already satisfied: tqdm in c:\\users\\creat\\anaconda3\\lib\\site-packages (from nltk) (4.62.3)\n",
      "Requirement already satisfied: colorama in c:\\users\\creat\\anaconda3\\lib\\site-packages (from click->nltk) (0.4.4)\n",
      "Collecting datasketch\n",
      "  Downloading datasketch-1.5.9-py3-none-any.whl (76 kB)\n",
      "Requirement already satisfied: scipy>=1.0.0 in c:\\users\\creat\\anaconda3\\lib\\site-packages (from datasketch) (1.7.1)\n",
      "Requirement already satisfied: numpy>=1.11 in c:\\users\\creat\\anaconda3\\lib\\site-packages (from datasketch) (1.20.3)\n",
      "Installing collected packages: datasketch\n",
      "Successfully installed datasketch-1.5.9\n"
     ]
    }
   ],
   "source": [
    "!pip install nltk\n",
    "!pip install datasketch"
   ]
  },
  {
   "cell_type": "code",
   "execution_count": 9,
   "id": "958dc90a",
   "metadata": {},
   "outputs": [
    {
     "name": "stdout",
     "output_type": "stream",
     "text": [
      "Comment 1: I love the beach and sunny weather.\n",
      "Comment 2: The weather is perfect for a day at the beach.\n",
      "[('I love the beach and sunny weather.', 'The weather is perfect for a day at the beach.'), ('I love the beach and sunny weather.', 'I prefer snowy mountains over sunny beaches.'), ('I love the beach and sunny weather.', 'The beach is crowded today.'), ('The weather is perfect for a day at the beach.', 'I love the beach and sunny weather.'), ('The weather is perfect for a day at the beach.', 'The beach is crowded today.'), ('The weather is perfect for a day at the beach.', 'I enjoy swimming in the ocean during summer.'), ('I prefer snowy mountains over sunny beaches.', 'I love the beach and sunny weather.'), ('The beach is crowded today.', 'I love the beach and sunny weather.'), ('The beach is crowded today.', 'The weather is perfect for a day at the beach.'), ('The beach is crowded today.', 'I enjoy swimming in the ocean during summer.'), ('I enjoy swimming in the ocean during summer.', 'The weather is perfect for a day at the beach.'), ('I enjoy swimming in the ocean during summer.', 'The beach is crowded today.')]\n",
      "Comment 1: I love the beach and sunny weather.\n",
      "Comment 2: I prefer snowy mountains over sunny beaches.\n",
      "[('I love the beach and sunny weather.', 'The weather is perfect for a day at the beach.'), ('I love the beach and sunny weather.', 'I prefer snowy mountains over sunny beaches.'), ('I love the beach and sunny weather.', 'The beach is crowded today.'), ('The weather is perfect for a day at the beach.', 'I love the beach and sunny weather.'), ('The weather is perfect for a day at the beach.', 'The beach is crowded today.'), ('The weather is perfect for a day at the beach.', 'I enjoy swimming in the ocean during summer.'), ('I prefer snowy mountains over sunny beaches.', 'I love the beach and sunny weather.'), ('The beach is crowded today.', 'I love the beach and sunny weather.'), ('The beach is crowded today.', 'The weather is perfect for a day at the beach.'), ('The beach is crowded today.', 'I enjoy swimming in the ocean during summer.'), ('I enjoy swimming in the ocean during summer.', 'The weather is perfect for a day at the beach.'), ('I enjoy swimming in the ocean during summer.', 'The beach is crowded today.')]\n",
      "Comment 1: I love the beach and sunny weather.\n",
      "Comment 2: The beach is crowded today.\n",
      "[('I love the beach and sunny weather.', 'The weather is perfect for a day at the beach.'), ('I love the beach and sunny weather.', 'I prefer snowy mountains over sunny beaches.'), ('I love the beach and sunny weather.', 'The beach is crowded today.'), ('The weather is perfect for a day at the beach.', 'I love the beach and sunny weather.'), ('The weather is perfect for a day at the beach.', 'The beach is crowded today.'), ('The weather is perfect for a day at the beach.', 'I enjoy swimming in the ocean during summer.'), ('I prefer snowy mountains over sunny beaches.', 'I love the beach and sunny weather.'), ('The beach is crowded today.', 'I love the beach and sunny weather.'), ('The beach is crowded today.', 'The weather is perfect for a day at the beach.'), ('The beach is crowded today.', 'I enjoy swimming in the ocean during summer.'), ('I enjoy swimming in the ocean during summer.', 'The weather is perfect for a day at the beach.'), ('I enjoy swimming in the ocean during summer.', 'The beach is crowded today.')]\n",
      "Comment 1: The weather is perfect for a day at the beach.\n",
      "Comment 2: I love the beach and sunny weather.\n",
      "[('I love the beach and sunny weather.', 'The weather is perfect for a day at the beach.'), ('I love the beach and sunny weather.', 'I prefer snowy mountains over sunny beaches.'), ('I love the beach and sunny weather.', 'The beach is crowded today.'), ('The weather is perfect for a day at the beach.', 'I love the beach and sunny weather.'), ('The weather is perfect for a day at the beach.', 'The beach is crowded today.'), ('The weather is perfect for a day at the beach.', 'I enjoy swimming in the ocean during summer.'), ('I prefer snowy mountains over sunny beaches.', 'I love the beach and sunny weather.'), ('The beach is crowded today.', 'I love the beach and sunny weather.'), ('The beach is crowded today.', 'The weather is perfect for a day at the beach.'), ('The beach is crowded today.', 'I enjoy swimming in the ocean during summer.'), ('I enjoy swimming in the ocean during summer.', 'The weather is perfect for a day at the beach.'), ('I enjoy swimming in the ocean during summer.', 'The beach is crowded today.')]\n",
      "Comment 1: The weather is perfect for a day at the beach.\n",
      "Comment 2: The beach is crowded today.\n",
      "[('I love the beach and sunny weather.', 'The weather is perfect for a day at the beach.'), ('I love the beach and sunny weather.', 'I prefer snowy mountains over sunny beaches.'), ('I love the beach and sunny weather.', 'The beach is crowded today.'), ('The weather is perfect for a day at the beach.', 'I love the beach and sunny weather.'), ('The weather is perfect for a day at the beach.', 'The beach is crowded today.'), ('The weather is perfect for a day at the beach.', 'I enjoy swimming in the ocean during summer.'), ('I prefer snowy mountains over sunny beaches.', 'I love the beach and sunny weather.'), ('The beach is crowded today.', 'I love the beach and sunny weather.'), ('The beach is crowded today.', 'The weather is perfect for a day at the beach.'), ('The beach is crowded today.', 'I enjoy swimming in the ocean during summer.'), ('I enjoy swimming in the ocean during summer.', 'The weather is perfect for a day at the beach.'), ('I enjoy swimming in the ocean during summer.', 'The beach is crowded today.')]\n",
      "Comment 1: The weather is perfect for a day at the beach.\n",
      "Comment 2: I enjoy swimming in the ocean during summer.\n",
      "[('I love the beach and sunny weather.', 'The weather is perfect for a day at the beach.'), ('I love the beach and sunny weather.', 'I prefer snowy mountains over sunny beaches.'), ('I love the beach and sunny weather.', 'The beach is crowded today.'), ('The weather is perfect for a day at the beach.', 'I love the beach and sunny weather.'), ('The weather is perfect for a day at the beach.', 'The beach is crowded today.'), ('The weather is perfect for a day at the beach.', 'I enjoy swimming in the ocean during summer.'), ('I prefer snowy mountains over sunny beaches.', 'I love the beach and sunny weather.'), ('The beach is crowded today.', 'I love the beach and sunny weather.'), ('The beach is crowded today.', 'The weather is perfect for a day at the beach.'), ('The beach is crowded today.', 'I enjoy swimming in the ocean during summer.'), ('I enjoy swimming in the ocean during summer.', 'The weather is perfect for a day at the beach.'), ('I enjoy swimming in the ocean during summer.', 'The beach is crowded today.')]\n",
      "Comment 1: I prefer snowy mountains over sunny beaches.\n",
      "Comment 2: I love the beach and sunny weather.\n",
      "[('I love the beach and sunny weather.', 'The weather is perfect for a day at the beach.'), ('I love the beach and sunny weather.', 'I prefer snowy mountains over sunny beaches.'), ('I love the beach and sunny weather.', 'The beach is crowded today.'), ('The weather is perfect for a day at the beach.', 'I love the beach and sunny weather.'), ('The weather is perfect for a day at the beach.', 'The beach is crowded today.'), ('The weather is perfect for a day at the beach.', 'I enjoy swimming in the ocean during summer.'), ('I prefer snowy mountains over sunny beaches.', 'I love the beach and sunny weather.'), ('The beach is crowded today.', 'I love the beach and sunny weather.'), ('The beach is crowded today.', 'The weather is perfect for a day at the beach.'), ('The beach is crowded today.', 'I enjoy swimming in the ocean during summer.'), ('I enjoy swimming in the ocean during summer.', 'The weather is perfect for a day at the beach.'), ('I enjoy swimming in the ocean during summer.', 'The beach is crowded today.')]\n",
      "Comment 1: The beach is crowded today.\n",
      "Comment 2: I love the beach and sunny weather.\n",
      "[('I love the beach and sunny weather.', 'The weather is perfect for a day at the beach.'), ('I love the beach and sunny weather.', 'I prefer snowy mountains over sunny beaches.'), ('I love the beach and sunny weather.', 'The beach is crowded today.'), ('The weather is perfect for a day at the beach.', 'I love the beach and sunny weather.'), ('The weather is perfect for a day at the beach.', 'The beach is crowded today.'), ('The weather is perfect for a day at the beach.', 'I enjoy swimming in the ocean during summer.'), ('I prefer snowy mountains over sunny beaches.', 'I love the beach and sunny weather.'), ('The beach is crowded today.', 'I love the beach and sunny weather.'), ('The beach is crowded today.', 'The weather is perfect for a day at the beach.'), ('The beach is crowded today.', 'I enjoy swimming in the ocean during summer.'), ('I enjoy swimming in the ocean during summer.', 'The weather is perfect for a day at the beach.'), ('I enjoy swimming in the ocean during summer.', 'The beach is crowded today.')]\n",
      "Comment 1: The beach is crowded today.\n",
      "Comment 2: The weather is perfect for a day at the beach.\n",
      "[('I love the beach and sunny weather.', 'The weather is perfect for a day at the beach.'), ('I love the beach and sunny weather.', 'I prefer snowy mountains over sunny beaches.'), ('I love the beach and sunny weather.', 'The beach is crowded today.'), ('The weather is perfect for a day at the beach.', 'I love the beach and sunny weather.'), ('The weather is perfect for a day at the beach.', 'The beach is crowded today.'), ('The weather is perfect for a day at the beach.', 'I enjoy swimming in the ocean during summer.'), ('I prefer snowy mountains over sunny beaches.', 'I love the beach and sunny weather.'), ('The beach is crowded today.', 'I love the beach and sunny weather.'), ('The beach is crowded today.', 'The weather is perfect for a day at the beach.'), ('The beach is crowded today.', 'I enjoy swimming in the ocean during summer.'), ('I enjoy swimming in the ocean during summer.', 'The weather is perfect for a day at the beach.'), ('I enjoy swimming in the ocean during summer.', 'The beach is crowded today.')]\n",
      "Comment 1: The beach is crowded today.\n",
      "Comment 2: I enjoy swimming in the ocean during summer.\n",
      "[('I love the beach and sunny weather.', 'The weather is perfect for a day at the beach.'), ('I love the beach and sunny weather.', 'I prefer snowy mountains over sunny beaches.'), ('I love the beach and sunny weather.', 'The beach is crowded today.'), ('The weather is perfect for a day at the beach.', 'I love the beach and sunny weather.'), ('The weather is perfect for a day at the beach.', 'The beach is crowded today.'), ('The weather is perfect for a day at the beach.', 'I enjoy swimming in the ocean during summer.'), ('I prefer snowy mountains over sunny beaches.', 'I love the beach and sunny weather.'), ('The beach is crowded today.', 'I love the beach and sunny weather.'), ('The beach is crowded today.', 'The weather is perfect for a day at the beach.'), ('The beach is crowded today.', 'I enjoy swimming in the ocean during summer.'), ('I enjoy swimming in the ocean during summer.', 'The weather is perfect for a day at the beach.'), ('I enjoy swimming in the ocean during summer.', 'The beach is crowded today.')]\n",
      "Comment 1: I enjoy swimming in the ocean during summer.\n",
      "Comment 2: The weather is perfect for a day at the beach.\n",
      "[('I love the beach and sunny weather.', 'The weather is perfect for a day at the beach.'), ('I love the beach and sunny weather.', 'I prefer snowy mountains over sunny beaches.'), ('I love the beach and sunny weather.', 'The beach is crowded today.'), ('The weather is perfect for a day at the beach.', 'I love the beach and sunny weather.'), ('The weather is perfect for a day at the beach.', 'The beach is crowded today.'), ('The weather is perfect for a day at the beach.', 'I enjoy swimming in the ocean during summer.'), ('I prefer snowy mountains over sunny beaches.', 'I love the beach and sunny weather.'), ('The beach is crowded today.', 'I love the beach and sunny weather.'), ('The beach is crowded today.', 'The weather is perfect for a day at the beach.'), ('The beach is crowded today.', 'I enjoy swimming in the ocean during summer.'), ('I enjoy swimming in the ocean during summer.', 'The weather is perfect for a day at the beach.'), ('I enjoy swimming in the ocean during summer.', 'The beach is crowded today.')]\n",
      "Comment 1: I enjoy swimming in the ocean during summer.\n",
      "Comment 2: The beach is crowded today.\n",
      "[('I love the beach and sunny weather.', 'The weather is perfect for a day at the beach.'), ('I love the beach and sunny weather.', 'I prefer snowy mountains over sunny beaches.'), ('I love the beach and sunny weather.', 'The beach is crowded today.'), ('The weather is perfect for a day at the beach.', 'I love the beach and sunny weather.'), ('The weather is perfect for a day at the beach.', 'The beach is crowded today.'), ('The weather is perfect for a day at the beach.', 'I enjoy swimming in the ocean during summer.'), ('I prefer snowy mountains over sunny beaches.', 'I love the beach and sunny weather.'), ('The beach is crowded today.', 'I love the beach and sunny weather.'), ('The beach is crowded today.', 'The weather is perfect for a day at the beach.'), ('The beach is crowded today.', 'I enjoy swimming in the ocean during summer.'), ('I enjoy swimming in the ocean during summer.', 'The weather is perfect for a day at the beach.'), ('I enjoy swimming in the ocean during summer.', 'The beach is crowded today.')]\n"
     ]
    },
    {
     "name": "stderr",
     "output_type": "stream",
     "text": [
      "[nltk_data] Downloading package punkt to\n",
      "[nltk_data]     C:\\Users\\creat\\AppData\\Roaming\\nltk_data...\n",
      "[nltk_data]   Package punkt is already up-to-date!\n",
      "[nltk_data] Downloading package stopwords to\n",
      "[nltk_data]     C:\\Users\\creat\\AppData\\Roaming\\nltk_data...\n",
      "[nltk_data]   Package stopwords is already up-to-date!\n"
     ]
    }
   ],
   "source": [
    "import nltk\n",
    "nltk.download('punkt')\n",
    "nltk.download('stopwords')\n",
    "from nltk.corpus import stopwords\n",
    "from nltk.tokenize import word_tokenize\n",
    "from datasketch import MinHash, MinHashLSHForest\n",
    "\n",
    "def compare_comments(comments):\n",
    "    # Remove stop words\n",
    "    stop_words = set(stopwords.words('english'))\n",
    "\n",
    "    # Initialize MinHash objects for each comment\n",
    "    minhashes = []\n",
    "    for i, comment in enumerate(comments):\n",
    "        words = set(word_tokenize(comment.lower()))\n",
    "        words = words.difference(stop_words)\n",
    "\n",
    "        minhash = MinHash()\n",
    "        for word in words:\n",
    "            minhash.update(word.encode('utf-8'))\n",
    "\n",
    "        minhashes.append((i, minhash))\n",
    "\n",
    "    # Build LSH Forest index\n",
    "    forest = MinHashLSHForest()\n",
    "    for idx, minhash in minhashes:\n",
    "        forest.add(idx, minhash)\n",
    "\n",
    "    forest.index()\n",
    "\n",
    "    results = []\n",
    "    for idx, minhash in minhashes:\n",
    "        query_result = forest.query(minhash, k=5)  # Adjust the value of k as per your requirement\n",
    "        query_result.remove(idx)\n",
    "        for similar_idx in query_result:\n",
    "            results.append((comments[idx], comments[similar_idx]))\n",
    "\n",
    "    return results\n",
    "\n",
    "# Example usage\n",
    "comments = [\n",
    "    \"I love the beach and sunny weather.\",\n",
    "    \"The weather is perfect for a day at the beach.\",\n",
    "    \"I prefer snowy mountains over sunny beaches.\",\n",
    "    \"The beach is crowded today.\",\n",
    "    \"I enjoy swimming in the ocean during summer.\",\n",
    "    \"\"\n",
    "]\n",
    "\n",
    "results = compare_comments(comments)\n",
    "\n",
    "# Print the results\n",
    "for comment1, comment2 in results:\n",
    "    print(\"Comment 1:\", comment1)\n",
    "    print(\"Comment 2:\", comment2)\n",
    "    print(results)\n"
   ]
  },
  {
   "cell_type": "code",
   "execution_count": 11,
   "id": "de8f7587",
   "metadata": {},
   "outputs": [],
   "source": [
    "import pandas as pd\n",
    "\n",
    "# Create a DataFrame\n",
    "df = pd.DataFrame({\n",
    "    \"Name\": [\"John Doe\", \"Jane Doe\", \"Mary Smith\", \"Peter Jones\"],\n",
    "    \"Age\": [30, 25, 40, 35],\n",
    "    \"Country\": [\"United States\", \"United Kingdom\", \"Canada\", \"Australia\"]\n",
    "})\n",
    "\n",
    "# Select the first row of the DataFrame\n",
    "first_row = df.loc[0, :]\n",
    "\n",
    "# Select the column named \"Name\"\n",
    "name_column = df[\"Name\"]\n",
    "\n",
    "# Select the rows where the age is greater than 30\n",
    "over_30 = df.loc[df[\"Age\"] > 30, :]\n",
    "\n",
    "# Select the rows where the country is \"United States\" or \"Canada\"\n",
    "us_or_canada = df.loc[(df[\"Country\"] == \"United States\") | (df[\"Country\"] == \"Canada\"), :]\n",
    "\n",
    "# Select the rows where the name starts with the letter \"J\"\n",
    "names_starting_with_j = df.loc[df[\"Name\"].str.startswith(\"J\"), :]\n",
    "\n",
    "# Select the rows where the age is greater than 30 and the country is \"United States\"\n",
    "us_over_30 = df.loc[(df[\"Age\"] > 30) & (df[\"Country\"] == \"United States\"), :]"
   ]
  },
  {
   "cell_type": "code",
   "execution_count": null,
   "id": "3f4bc98b",
   "metadata": {},
   "outputs": [],
   "source": [
    "# Add a new column\n",
    "df['Salary'] = [50000, 60000, 70000]\n",
    "\n",
    "# Rename columns\n",
    "df.rename(columns={'Age': 'Years'}, inplace=True)\n",
    "\n",
    "# Sort the DataFrame by a column\n",
    "df.sort_values('Years', ascending=False)\n",
    "\n",
    "# Group by a column and perform an aggregation\n",
    "df.groupby('Country')['Salary'].mean()"
   ]
  },
  {
   "cell_type": "code",
   "execution_count": 3,
   "id": "24949ad2",
   "metadata": {},
   "outputs": [
    {
     "name": "stdout",
     "output_type": "stream",
     "text": [
      "Requirement already satisfied: asyncio in c:\\users\\creat\\anaconda3\\lib\\site-packages (3.4.3)\n"
     ]
    }
   ],
   "source": [
    "!pip install asyncio"
   ]
  },
  {
   "cell_type": "code",
   "execution_count": 6,
   "id": "21cc6e42",
   "metadata": {},
   "outputs": [
    {
     "ename": "RuntimeError",
     "evalue": "asyncio.run() cannot be called from a running event loop",
     "output_type": "error",
     "traceback": [
      "\u001b[1;31m---------------------------------------------------------------------------\u001b[0m",
      "\u001b[1;31mRuntimeError\u001b[0m                              Traceback (most recent call last)",
      "Cell \u001b[1;32mIn[6], line 21\u001b[0m\n\u001b[0;32m     18\u001b[0m     \u001b[38;5;28mprint\u001b[39m(\u001b[38;5;124m\"\u001b[39m\u001b[38;5;124mMain function is done\u001b[39m\u001b[38;5;124m\"\u001b[39m)\n\u001b[0;32m     19\u001b[0m     \u001b[38;5;28mprint\u001b[39m(results)\n\u001b[1;32m---> 21\u001b[0m asyncio\u001b[38;5;241m.\u001b[39mrun(main())\n",
      "File \u001b[1;32m~\\anaconda3\\Lib\\asyncio\\runners.py:186\u001b[0m, in \u001b[0;36mrun\u001b[1;34m(main, debug)\u001b[0m\n\u001b[0;32m    161\u001b[0m \u001b[38;5;250m\u001b[39m\u001b[38;5;124;03m\"\"\"Execute the coroutine and return the result.\u001b[39;00m\n\u001b[0;32m    162\u001b[0m \n\u001b[0;32m    163\u001b[0m \u001b[38;5;124;03mThis function runs the passed coroutine, taking care of\u001b[39;00m\n\u001b[1;32m   (...)\u001b[0m\n\u001b[0;32m    182\u001b[0m \u001b[38;5;124;03m    asyncio.run(main())\u001b[39;00m\n\u001b[0;32m    183\u001b[0m \u001b[38;5;124;03m\"\"\"\u001b[39;00m\n\u001b[0;32m    184\u001b[0m \u001b[38;5;28;01mif\u001b[39;00m events\u001b[38;5;241m.\u001b[39m_get_running_loop() \u001b[38;5;129;01mis\u001b[39;00m \u001b[38;5;129;01mnot\u001b[39;00m \u001b[38;5;28;01mNone\u001b[39;00m:\n\u001b[0;32m    185\u001b[0m     \u001b[38;5;66;03m# fail fast with short traceback\u001b[39;00m\n\u001b[1;32m--> 186\u001b[0m     \u001b[38;5;28;01mraise\u001b[39;00m \u001b[38;5;167;01mRuntimeError\u001b[39;00m(\n\u001b[0;32m    187\u001b[0m         \u001b[38;5;124m\"\u001b[39m\u001b[38;5;124masyncio.run() cannot be called from a running event loop\u001b[39m\u001b[38;5;124m\"\u001b[39m)\n\u001b[0;32m    189\u001b[0m \u001b[38;5;28;01mwith\u001b[39;00m Runner(debug\u001b[38;5;241m=\u001b[39mdebug) \u001b[38;5;28;01mas\u001b[39;00m runner:\n\u001b[0;32m    190\u001b[0m     \u001b[38;5;28;01mreturn\u001b[39;00m runner\u001b[38;5;241m.\u001b[39mrun(main)\n",
      "\u001b[1;31mRuntimeError\u001b[0m: asyncio.run() cannot be called from a running event loop"
     ]
    }
   ],
   "source": [
    "import asyncio\n",
    "\n",
    "async def func_a():\n",
    "    print(\"Function A is running\")\n",
    "    await asyncio.sleep(1)\n",
    "    print(\"Function A is done\")\n",
    "    return \"Function A\"\n",
    "\n",
    "async def func_b():\n",
    "    print(\"Function B is running\")\n",
    "    await asyncio.sleep(1)\n",
    "    print(\"Function B is done\")\n",
    "    return \"Function B\"\n",
    "\n",
    "async def main():\n",
    "    print(\"Main function is running\")\n",
    "    results = await asyncio.gather(func_a(), func_b())\n",
    "    print(\"Main function is done\")\n",
    "    print(results)\n",
    "\n",
    "asyncio.run(main())"
   ]
  },
  {
   "cell_type": "code",
   "execution_count": null,
   "id": "3eebb13b",
   "metadata": {},
   "outputs": [],
   "source": []
  }
 ],
 "metadata": {
  "kernelspec": {
   "display_name": "Python 3 (ipykernel)",
   "language": "python",
   "name": "python3"
  },
  "language_info": {
   "codemirror_mode": {
    "name": "ipython",
    "version": 3
   },
   "file_extension": ".py",
   "mimetype": "text/x-python",
   "name": "python",
   "nbconvert_exporter": "python",
   "pygments_lexer": "ipython3",
   "version": "3.11.4"
  }
 },
 "nbformat": 4,
 "nbformat_minor": 5
}
