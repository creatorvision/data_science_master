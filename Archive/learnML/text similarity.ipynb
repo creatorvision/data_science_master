{
 "cells": [
  {
   "cell_type": "code",
   "execution_count": 1,
   "id": "dca5e30f",
   "metadata": {},
   "outputs": [
    {
     "name": "stdout",
     "output_type": "stream",
     "text": [
      "Requirement already satisfied: scipy in c:\\users\\creat\\anaconda3\\lib\\site-packages (1.10.1)\n",
      "Requirement already satisfied: numpy<1.27.0,>=1.19.5 in c:\\users\\creat\\anaconda3\\lib\\site-packages (from scipy) (1.24.3)\n"
     ]
    }
   ],
   "source": [
    "!pip install scipy"
   ]
  },
  {
   "cell_type": "code",
   "execution_count": 6,
   "id": "638f616b",
   "metadata": {},
   "outputs": [
    {
     "name": "stdout",
     "output_type": "stream",
     "text": [
      "0.5\n"
     ]
    }
   ],
   "source": [
    "import pandas as pd\n",
    "import scipy.spatial.distance as ssd\n",
    "\n",
    "df = pd.DataFrame({'A': ['Hello World', 'This is a test'], 'B': ['Hello World', 'This is another test']})\n",
    "\n",
    "# Split the strings in columns A and B into lists of words and convert them to sets.\n",
    "set_A = df['A'].str.split().apply(set)\n",
    "set_B = df['B'].str.split().apply(set)\n",
    "\n",
    "# Calculate the Jaccard similarity coefficient between the two sets.\n",
    "similarity = 1 - ssd.jaccard(set_A, set_B)\n",
    "\n",
    "# Print the similarity score.\n",
    "print(similarity)\n"
   ]
  },
  {
   "cell_type": "code",
   "execution_count": 7,
   "id": "dfda5b6f",
   "metadata": {},
   "outputs": [
    {
     "name": "stdout",
     "output_type": "stream",
     "text": [
      "ColumnB         Hello Beautiful World  This is another test  Additional Text\n",
      "ColumnA                                                                     \n",
      "Hello World                       1.0                   0.0         0.000000\n",
      "This is a test                    0.0                   1.0         0.000000\n",
      "Example Text                      0.0                   0.0         0.707107\n"
     ]
    }
   ],
   "source": [
    "import pandas as pd\n",
    "from sklearn.metrics.pairwise import cosine_similarity\n",
    "from sklearn.feature_extraction.text import TfidfVectorizer\n",
    "\n",
    "# Create a sample DataFrame\n",
    "data = {'ColumnA': ['Hello World', 'This is a test', 'Example Text'],\n",
    "        'ColumnB': ['Hello Beautiful World', 'This is another test', 'Additional Text']}\n",
    "df = pd.DataFrame(data)\n",
    "\n",
    "# Create a TF-IDF vectorizer to convert text to numerical vectors\n",
    "tfidf_vectorizer = TfidfVectorizer()\n",
    "\n",
    "# Apply the vectorizer to both columns\n",
    "tfidf_matrix_A = tfidf_vectorizer.fit_transform(df['ColumnA'])\n",
    "tfidf_matrix_B = tfidf_vectorizer.transform(df['ColumnB'])\n",
    "\n",
    "# Calculate cosine similarity between the text in the two columns\n",
    "similarity_matrix = cosine_similarity(tfidf_matrix_A, tfidf_matrix_B)\n",
    "\n",
    "# Convert the similarity matrix to a DataFrame for readability\n",
    "similarity_df = pd.DataFrame(similarity_matrix, columns=df['ColumnB'], index=df['ColumnA'])\n",
    "\n",
    "# Print the similarity DataFrame\n",
    "print(similarity_df)\n"
   ]
  },
  {
   "cell_type": "code",
   "execution_count": null,
   "id": "fe545ad0",
   "metadata": {},
   "outputs": [],
   "source": []
  }
 ],
 "metadata": {
  "kernelspec": {
   "display_name": "Python 3 (ipykernel)",
   "language": "python",
   "name": "python3"
  },
  "language_info": {
   "codemirror_mode": {
    "name": "ipython",
    "version": 3
   },
   "file_extension": ".py",
   "mimetype": "text/x-python",
   "name": "python",
   "nbconvert_exporter": "python",
   "pygments_lexer": "ipython3",
   "version": "3.11.4"
  }
 },
 "nbformat": 4,
 "nbformat_minor": 5
}
