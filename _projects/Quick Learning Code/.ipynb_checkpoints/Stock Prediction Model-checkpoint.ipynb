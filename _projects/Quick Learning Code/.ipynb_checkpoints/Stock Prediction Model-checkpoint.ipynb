{
 "cells": [
  {
   "cell_type": "code",
   "execution_count": 45,
   "id": "861b47a5",
   "metadata": {},
   "outputs": [
    {
     "name": "stdout",
     "output_type": "stream",
     "text": [
      "Requirement already satisfied: yfinance in c:\\users\\creat\\anaconda3\\lib\\site-packages (0.2.27)\n",
      "Requirement already satisfied: appdirs>=1.4.4 in c:\\users\\creat\\anaconda3\\lib\\site-packages (from yfinance) (1.4.4)\n",
      "Requirement already satisfied: numpy>=1.16.5 in c:\\users\\creat\\anaconda3\\lib\\site-packages (from yfinance) (1.25.2)\n",
      "Requirement already satisfied: frozendict>=2.3.4 in c:\\users\\creat\\anaconda3\\lib\\site-packages (from yfinance) (2.3.8)\n",
      "Requirement already satisfied: requests>=2.31 in c:\\users\\creat\\anaconda3\\lib\\site-packages (from yfinance) (2.31.0)\n",
      "Requirement already satisfied: pandas>=1.3.0 in c:\\users\\creat\\appdata\\roaming\\python\\python39\\site-packages (from yfinance) (2.0.3)\n",
      "Requirement already satisfied: pytz>=2022.5 in c:\\users\\creat\\anaconda3\\lib\\site-packages (from yfinance) (2023.3)\n",
      "Requirement already satisfied: html5lib>=1.1 in c:\\users\\creat\\anaconda3\\lib\\site-packages (from yfinance) (1.1)\n",
      "Requirement already satisfied: multitasking>=0.0.7 in c:\\users\\creat\\anaconda3\\lib\\site-packages (from yfinance) (0.0.11)\n",
      "Requirement already satisfied: lxml>=4.9.1 in c:\\users\\creat\\anaconda3\\lib\\site-packages (from yfinance) (4.9.3)\n",
      "Requirement already satisfied: beautifulsoup4>=4.11.1 in c:\\users\\creat\\anaconda3\\lib\\site-packages (from yfinance) (4.12.2)\n",
      "Requirement already satisfied: soupsieve>1.2 in c:\\users\\creat\\anaconda3\\lib\\site-packages (from beautifulsoup4>=4.11.1->yfinance) (2.2.1)\n",
      "Requirement already satisfied: six>=1.9 in c:\\users\\creat\\anaconda3\\lib\\site-packages (from html5lib>=1.1->yfinance) (1.16.0)\n",
      "Requirement already satisfied: webencodings in c:\\users\\creat\\anaconda3\\lib\\site-packages (from html5lib>=1.1->yfinance) (0.5.1)\n",
      "Requirement already satisfied: tzdata>=2022.1 in c:\\users\\creat\\anaconda3\\lib\\site-packages (from pandas>=1.3.0->yfinance) (2023.3)\n",
      "Requirement already satisfied: python-dateutil>=2.8.2 in c:\\users\\creat\\anaconda3\\lib\\site-packages (from pandas>=1.3.0->yfinance) (2.8.2)\n",
      "Requirement already satisfied: urllib3<3,>=1.21.1 in c:\\users\\creat\\anaconda3\\lib\\site-packages (from requests>=2.31->yfinance) (1.26.7)\n",
      "Requirement already satisfied: certifi>=2017.4.17 in c:\\users\\creat\\anaconda3\\lib\\site-packages (from requests>=2.31->yfinance) (2021.10.8)\n",
      "Requirement already satisfied: charset-normalizer<4,>=2 in c:\\users\\creat\\anaconda3\\lib\\site-packages (from requests>=2.31->yfinance) (2.0.4)\n",
      "Requirement already satisfied: idna<4,>=2.5 in c:\\users\\creat\\anaconda3\\lib\\site-packages (from requests>=2.31->yfinance) (3.2)\n",
      "Requirement already satisfied: numpy in c:\\users\\creat\\anaconda3\\lib\\site-packages (1.25.2)\n"
     ]
    }
   ],
   "source": [
    "!pip install yfinance\n",
    "!pip install --upgrade numpy"
   ]
  },
  {
   "cell_type": "code",
   "execution_count": 46,
   "id": "d8dc604b",
   "metadata": {},
   "outputs": [],
   "source": [
    "import yfinance as yf\n",
    "import pandas as pd\n",
    "from sklearn.ensemble import RandomForestClassifier\n",
    "from sklearn.impute import SimpleImputer\n",
    "from sklearn.model_selection import train_test_split\n",
    "from sklearn.metrics import precision_score\n"
   ]
  },
  {
   "cell_type": "code",
   "execution_count": 47,
   "id": "7db9be16",
   "metadata": {},
   "outputs": [],
   "source": [
    "sp500 = yf.Ticker(\"^GSPC\")"
   ]
  },
  {
   "cell_type": "code",
   "execution_count": 48,
   "id": "00d2ffaa",
   "metadata": {},
   "outputs": [
    {
     "data": {
      "text/plain": [
       "yfinance.ticker.Ticker"
      ]
     },
     "execution_count": 48,
     "metadata": {},
     "output_type": "execute_result"
    }
   ],
   "source": [
    "type(sp500)"
   ]
  },
  {
   "cell_type": "code",
   "execution_count": 49,
   "id": "51a34114",
   "metadata": {},
   "outputs": [],
   "source": [
    "sp500 = sp500.history(period=\"max\")"
   ]
  },
  {
   "cell_type": "code",
   "execution_count": 50,
   "id": "f6879682",
   "metadata": {},
   "outputs": [
    {
     "data": {
      "text/html": [
       "<div>\n",
       "<style scoped>\n",
       "    .dataframe tbody tr th:only-of-type {\n",
       "        vertical-align: middle;\n",
       "    }\n",
       "\n",
       "    .dataframe tbody tr th {\n",
       "        vertical-align: top;\n",
       "    }\n",
       "\n",
       "    .dataframe thead th {\n",
       "        text-align: right;\n",
       "    }\n",
       "</style>\n",
       "<table border=\"1\" class=\"dataframe\">\n",
       "  <thead>\n",
       "    <tr style=\"text-align: right;\">\n",
       "      <th></th>\n",
       "      <th>Open</th>\n",
       "      <th>High</th>\n",
       "      <th>Low</th>\n",
       "      <th>Close</th>\n",
       "      <th>Volume</th>\n",
       "      <th>Dividends</th>\n",
       "      <th>Stock Splits</th>\n",
       "    </tr>\n",
       "    <tr>\n",
       "      <th>Date</th>\n",
       "      <th></th>\n",
       "      <th></th>\n",
       "      <th></th>\n",
       "      <th></th>\n",
       "      <th></th>\n",
       "      <th></th>\n",
       "      <th></th>\n",
       "    </tr>\n",
       "  </thead>\n",
       "  <tbody>\n",
       "    <tr>\n",
       "      <th>1927-12-30 00:00:00-05:00</th>\n",
       "      <td>17.660000</td>\n",
       "      <td>17.660000</td>\n",
       "      <td>17.660000</td>\n",
       "      <td>17.660000</td>\n",
       "      <td>0</td>\n",
       "      <td>0.0</td>\n",
       "      <td>0.0</td>\n",
       "    </tr>\n",
       "    <tr>\n",
       "      <th>1928-01-03 00:00:00-05:00</th>\n",
       "      <td>17.760000</td>\n",
       "      <td>17.760000</td>\n",
       "      <td>17.760000</td>\n",
       "      <td>17.760000</td>\n",
       "      <td>0</td>\n",
       "      <td>0.0</td>\n",
       "      <td>0.0</td>\n",
       "    </tr>\n",
       "    <tr>\n",
       "      <th>1928-01-04 00:00:00-05:00</th>\n",
       "      <td>17.719999</td>\n",
       "      <td>17.719999</td>\n",
       "      <td>17.719999</td>\n",
       "      <td>17.719999</td>\n",
       "      <td>0</td>\n",
       "      <td>0.0</td>\n",
       "      <td>0.0</td>\n",
       "    </tr>\n",
       "    <tr>\n",
       "      <th>1928-01-05 00:00:00-05:00</th>\n",
       "      <td>17.549999</td>\n",
       "      <td>17.549999</td>\n",
       "      <td>17.549999</td>\n",
       "      <td>17.549999</td>\n",
       "      <td>0</td>\n",
       "      <td>0.0</td>\n",
       "      <td>0.0</td>\n",
       "    </tr>\n",
       "    <tr>\n",
       "      <th>1928-01-06 00:00:00-05:00</th>\n",
       "      <td>17.660000</td>\n",
       "      <td>17.660000</td>\n",
       "      <td>17.660000</td>\n",
       "      <td>17.660000</td>\n",
       "      <td>0</td>\n",
       "      <td>0.0</td>\n",
       "      <td>0.0</td>\n",
       "    </tr>\n",
       "    <tr>\n",
       "      <th>...</th>\n",
       "      <td>...</td>\n",
       "      <td>...</td>\n",
       "      <td>...</td>\n",
       "      <td>...</td>\n",
       "      <td>...</td>\n",
       "      <td>...</td>\n",
       "      <td>...</td>\n",
       "    </tr>\n",
       "    <tr>\n",
       "      <th>2023-08-04 00:00:00-04:00</th>\n",
       "      <td>4513.959961</td>\n",
       "      <td>4540.339844</td>\n",
       "      <td>4474.549805</td>\n",
       "      <td>4478.029785</td>\n",
       "      <td>4143310000</td>\n",
       "      <td>0.0</td>\n",
       "      <td>0.0</td>\n",
       "    </tr>\n",
       "    <tr>\n",
       "      <th>2023-08-07 00:00:00-04:00</th>\n",
       "      <td>4491.580078</td>\n",
       "      <td>4519.839844</td>\n",
       "      <td>4491.149902</td>\n",
       "      <td>4518.439941</td>\n",
       "      <td>3493920000</td>\n",
       "      <td>0.0</td>\n",
       "      <td>0.0</td>\n",
       "    </tr>\n",
       "    <tr>\n",
       "      <th>2023-08-08 00:00:00-04:00</th>\n",
       "      <td>4498.029785</td>\n",
       "      <td>4503.310059</td>\n",
       "      <td>4464.390137</td>\n",
       "      <td>4499.379883</td>\n",
       "      <td>3884910000</td>\n",
       "      <td>0.0</td>\n",
       "      <td>0.0</td>\n",
       "    </tr>\n",
       "    <tr>\n",
       "      <th>2023-08-09 00:00:00-04:00</th>\n",
       "      <td>4501.569824</td>\n",
       "      <td>4502.439941</td>\n",
       "      <td>4461.330078</td>\n",
       "      <td>4467.709961</td>\n",
       "      <td>3803100000</td>\n",
       "      <td>0.0</td>\n",
       "      <td>0.0</td>\n",
       "    </tr>\n",
       "    <tr>\n",
       "      <th>2023-08-10 00:00:00-04:00</th>\n",
       "      <td>4487.160156</td>\n",
       "      <td>4527.370117</td>\n",
       "      <td>4457.919922</td>\n",
       "      <td>4468.830078</td>\n",
       "      <td>4504370000</td>\n",
       "      <td>0.0</td>\n",
       "      <td>0.0</td>\n",
       "    </tr>\n",
       "  </tbody>\n",
       "</table>\n",
       "<p>24017 rows × 7 columns</p>\n",
       "</div>"
      ],
      "text/plain": [
       "                                  Open         High          Low        Close  \\\n",
       "Date                                                                            \n",
       "1927-12-30 00:00:00-05:00    17.660000    17.660000    17.660000    17.660000   \n",
       "1928-01-03 00:00:00-05:00    17.760000    17.760000    17.760000    17.760000   \n",
       "1928-01-04 00:00:00-05:00    17.719999    17.719999    17.719999    17.719999   \n",
       "1928-01-05 00:00:00-05:00    17.549999    17.549999    17.549999    17.549999   \n",
       "1928-01-06 00:00:00-05:00    17.660000    17.660000    17.660000    17.660000   \n",
       "...                                ...          ...          ...          ...   \n",
       "2023-08-04 00:00:00-04:00  4513.959961  4540.339844  4474.549805  4478.029785   \n",
       "2023-08-07 00:00:00-04:00  4491.580078  4519.839844  4491.149902  4518.439941   \n",
       "2023-08-08 00:00:00-04:00  4498.029785  4503.310059  4464.390137  4499.379883   \n",
       "2023-08-09 00:00:00-04:00  4501.569824  4502.439941  4461.330078  4467.709961   \n",
       "2023-08-10 00:00:00-04:00  4487.160156  4527.370117  4457.919922  4468.830078   \n",
       "\n",
       "                               Volume  Dividends  Stock Splits  \n",
       "Date                                                            \n",
       "1927-12-30 00:00:00-05:00           0        0.0           0.0  \n",
       "1928-01-03 00:00:00-05:00           0        0.0           0.0  \n",
       "1928-01-04 00:00:00-05:00           0        0.0           0.0  \n",
       "1928-01-05 00:00:00-05:00           0        0.0           0.0  \n",
       "1928-01-06 00:00:00-05:00           0        0.0           0.0  \n",
       "...                               ...        ...           ...  \n",
       "2023-08-04 00:00:00-04:00  4143310000        0.0           0.0  \n",
       "2023-08-07 00:00:00-04:00  3493920000        0.0           0.0  \n",
       "2023-08-08 00:00:00-04:00  3884910000        0.0           0.0  \n",
       "2023-08-09 00:00:00-04:00  3803100000        0.0           0.0  \n",
       "2023-08-10 00:00:00-04:00  4504370000        0.0           0.0  \n",
       "\n",
       "[24017 rows x 7 columns]"
      ]
     },
     "execution_count": 50,
     "metadata": {},
     "output_type": "execute_result"
    }
   ],
   "source": [
    "sp500"
   ]
  },
  {
   "cell_type": "code",
   "execution_count": 51,
   "id": "c6e1f3b9",
   "metadata": {},
   "outputs": [
    {
     "data": {
      "text/plain": [
       "DatetimeIndex(['1927-12-30 00:00:00-05:00', '1928-01-03 00:00:00-05:00',\n",
       "               '1928-01-04 00:00:00-05:00', '1928-01-05 00:00:00-05:00',\n",
       "               '1928-01-06 00:00:00-05:00', '1928-01-09 00:00:00-05:00',\n",
       "               '1928-01-10 00:00:00-05:00', '1928-01-11 00:00:00-05:00',\n",
       "               '1928-01-12 00:00:00-05:00', '1928-01-13 00:00:00-05:00',\n",
       "               ...\n",
       "               '2023-07-28 00:00:00-04:00', '2023-07-31 00:00:00-04:00',\n",
       "               '2023-08-01 00:00:00-04:00', '2023-08-02 00:00:00-04:00',\n",
       "               '2023-08-03 00:00:00-04:00', '2023-08-04 00:00:00-04:00',\n",
       "               '2023-08-07 00:00:00-04:00', '2023-08-08 00:00:00-04:00',\n",
       "               '2023-08-09 00:00:00-04:00', '2023-08-10 00:00:00-04:00'],\n",
       "              dtype='datetime64[ns, America/New_York]', name='Date', length=24017, freq=None)"
      ]
     },
     "execution_count": 51,
     "metadata": {},
     "output_type": "execute_result"
    }
   ],
   "source": [
    "sp500.index"
   ]
  },
  {
   "cell_type": "code",
   "execution_count": 52,
   "id": "4b27aa45",
   "metadata": {},
   "outputs": [
    {
     "data": {
      "text/plain": [
       "<AxesSubplot:xlabel='Date'>"
      ]
     },
     "execution_count": 52,
     "metadata": {},
     "output_type": "execute_result"
    },
    {
     "data": {
      "image/png": "[encoded data removed]",
      "text/plain": [
       "<Figure size 432x288 with 1 Axes>"
      ]
     },
     "metadata": {
      "needs_background": "light"
     },
     "output_type": "display_data"
    }
   ],
   "source": [
    "sp500.plot.line(y=\"Close\",use_index=True)"
   ]
  },
  {
   "cell_type": "code",
   "execution_count": 53,
   "id": "df67c978",
   "metadata": {},
   "outputs": [],
   "source": [
    "del sp500[\"Dividends\"]\n",
    "del sp500[\"Stock Splits\"]"
   ]
  },
  {
   "cell_type": "code",
   "execution_count": 54,
   "id": "e314aabc",
   "metadata": {},
   "outputs": [],
   "source": [
    "sp500[\"tomorrow\"] = sp500[\"Close\"].shift(-1)"
   ]
  },
  {
   "cell_type": "code",
   "execution_count": 55,
   "id": "7d437a70",
   "metadata": {},
   "outputs": [
    {
     "data": {
      "text/html": [
       "<div>\n",
       "<style scoped>\n",
       "    .dataframe tbody tr th:only-of-type {\n",
       "        vertical-align: middle;\n",
       "    }\n",
       "\n",
       "    .dataframe tbody tr th {\n",
       "        vertical-align: top;\n",
       "    }\n",
       "\n",
       "    .dataframe thead th {\n",
       "        text-align: right;\n",
       "    }\n",
       "</style>\n",
       "<table border=\"1\" class=\"dataframe\">\n",
       "  <thead>\n",
       "    <tr style=\"text-align: right;\">\n",
       "      <th></th>\n",
       "      <th>Open</th>\n",
       "      <th>High</th>\n",
       "      <th>Low</th>\n",
       "      <th>Close</th>\n",
       "      <th>Volume</th>\n",
       "      <th>tomorrow</th>\n",
       "    </tr>\n",
       "    <tr>\n",
       "      <th>Date</th>\n",
       "      <th></th>\n",
       "      <th></th>\n",
       "      <th></th>\n",
       "      <th></th>\n",
       "      <th></th>\n",
       "      <th></th>\n",
       "    </tr>\n",
       "  </thead>\n",
       "  <tbody>\n",
       "    <tr>\n",
       "      <th>1927-12-30 00:00:00-05:00</th>\n",
       "      <td>17.660000</td>\n",
       "      <td>17.660000</td>\n",
       "      <td>17.660000</td>\n",
       "      <td>17.660000</td>\n",
       "      <td>0</td>\n",
       "      <td>17.760000</td>\n",
       "    </tr>\n",
       "    <tr>\n",
       "      <th>1928-01-03 00:00:00-05:00</th>\n",
       "      <td>17.760000</td>\n",
       "      <td>17.760000</td>\n",
       "      <td>17.760000</td>\n",
       "      <td>17.760000</td>\n",
       "      <td>0</td>\n",
       "      <td>17.719999</td>\n",
       "    </tr>\n",
       "    <tr>\n",
       "      <th>1928-01-04 00:00:00-05:00</th>\n",
       "      <td>17.719999</td>\n",
       "      <td>17.719999</td>\n",
       "      <td>17.719999</td>\n",
       "      <td>17.719999</td>\n",
       "      <td>0</td>\n",
       "      <td>17.549999</td>\n",
       "    </tr>\n",
       "    <tr>\n",
       "      <th>1928-01-05 00:00:00-05:00</th>\n",
       "      <td>17.549999</td>\n",
       "      <td>17.549999</td>\n",
       "      <td>17.549999</td>\n",
       "      <td>17.549999</td>\n",
       "      <td>0</td>\n",
       "      <td>17.660000</td>\n",
       "    </tr>\n",
       "    <tr>\n",
       "      <th>1928-01-06 00:00:00-05:00</th>\n",
       "      <td>17.660000</td>\n",
       "      <td>17.660000</td>\n",
       "      <td>17.660000</td>\n",
       "      <td>17.660000</td>\n",
       "      <td>0</td>\n",
       "      <td>17.500000</td>\n",
       "    </tr>\n",
       "    <tr>\n",
       "      <th>...</th>\n",
       "      <td>...</td>\n",
       "      <td>...</td>\n",
       "      <td>...</td>\n",
       "      <td>...</td>\n",
       "      <td>...</td>\n",
       "      <td>...</td>\n",
       "    </tr>\n",
       "    <tr>\n",
       "      <th>2023-08-04 00:00:00-04:00</th>\n",
       "      <td>4513.959961</td>\n",
       "      <td>4540.339844</td>\n",
       "      <td>4474.549805</td>\n",
       "      <td>4478.029785</td>\n",
       "      <td>4143310000</td>\n",
       "      <td>4518.439941</td>\n",
       "    </tr>\n",
       "    <tr>\n",
       "      <th>2023-08-07 00:00:00-04:00</th>\n",
       "      <td>4491.580078</td>\n",
       "      <td>4519.839844</td>\n",
       "      <td>4491.149902</td>\n",
       "      <td>4518.439941</td>\n",
       "      <td>3493920000</td>\n",
       "      <td>4499.379883</td>\n",
       "    </tr>\n",
       "    <tr>\n",
       "      <th>2023-08-08 00:00:00-04:00</th>\n",
       "      <td>4498.029785</td>\n",
       "      <td>4503.310059</td>\n",
       "      <td>4464.390137</td>\n",
       "      <td>4499.379883</td>\n",
       "      <td>3884910000</td>\n",
       "      <td>4467.709961</td>\n",
       "    </tr>\n",
       "    <tr>\n",
       "      <th>2023-08-09 00:00:00-04:00</th>\n",
       "      <td>4501.569824</td>\n",
       "      <td>4502.439941</td>\n",
       "      <td>4461.330078</td>\n",
       "      <td>4467.709961</td>\n",
       "      <td>3803100000</td>\n",
       "      <td>4468.830078</td>\n",
       "    </tr>\n",
       "    <tr>\n",
       "      <th>2023-08-10 00:00:00-04:00</th>\n",
       "      <td>4487.160156</td>\n",
       "      <td>4527.370117</td>\n",
       "      <td>4457.919922</td>\n",
       "      <td>4468.830078</td>\n",
       "      <td>4504370000</td>\n",
       "      <td>NaN</td>\n",
       "    </tr>\n",
       "  </tbody>\n",
       "</table>\n",
       "<p>24017 rows × 6 columns</p>\n",
       "</div>"
      ],
      "text/plain": [
       "                                  Open         High          Low        Close  \\\n",
       "Date                                                                            \n",
       "1927-12-30 00:00:00-05:00    17.660000    17.660000    17.660000    17.660000   \n",
       "1928-01-03 00:00:00-05:00    17.760000    17.760000    17.760000    17.760000   \n",
       "1928-01-04 00:00:00-05:00    17.719999    17.719999    17.719999    17.719999   \n",
       "1928-01-05 00:00:00-05:00    17.549999    17.549999    17.549999    17.549999   \n",
       "1928-01-06 00:00:00-05:00    17.660000    17.660000    17.660000    17.660000   \n",
       "...                                ...          ...          ...          ...   \n",
       "2023-08-04 00:00:00-04:00  4513.959961  4540.339844  4474.549805  4478.029785   \n",
       "2023-08-07 00:00:00-04:00  4491.580078  4519.839844  4491.149902  4518.439941   \n",
       "2023-08-08 00:00:00-04:00  4498.029785  4503.310059  4464.390137  4499.379883   \n",
       "2023-08-09 00:00:00-04:00  4501.569824  4502.439941  4461.330078  4467.709961   \n",
       "2023-08-10 00:00:00-04:00  4487.160156  4527.370117  4457.919922  4468.830078   \n",
       "\n",
       "                               Volume     tomorrow  \n",
       "Date                                                \n",
       "1927-12-30 00:00:00-05:00           0    17.760000  \n",
       "1928-01-03 00:00:00-05:00           0    17.719999  \n",
       "1928-01-04 00:00:00-05:00           0    17.549999  \n",
       "1928-01-05 00:00:00-05:00           0    17.660000  \n",
       "1928-01-06 00:00:00-05:00           0    17.500000  \n",
       "...                               ...          ...  \n",
       "2023-08-04 00:00:00-04:00  4143310000  4518.439941  \n",
       "2023-08-07 00:00:00-04:00  3493920000  4499.379883  \n",
       "2023-08-08 00:00:00-04:00  3884910000  4467.709961  \n",
       "2023-08-09 00:00:00-04:00  3803100000  4468.830078  \n",
       "2023-08-10 00:00:00-04:00  4504370000          NaN  \n",
       "\n",
       "[24017 rows x 6 columns]"
      ]
     },
     "execution_count": 55,
     "metadata": {},
     "output_type": "execute_result"
    }
   ],
   "source": [
    "sp500"
   ]
  },
  {
   "cell_type": "code",
   "execution_count": 56,
   "id": "b8a28842",
   "metadata": {},
   "outputs": [],
   "source": [
    "sp500[\"Target\"]= (sp500[\"tomorrow\"]>sp500[\"Close\"]).astype(int)"
   ]
  },
  {
   "cell_type": "code",
   "execution_count": 57,
   "id": "21545498",
   "metadata": {},
   "outputs": [
    {
     "data": {
      "text/html": [
       "<div>\n",
       "<style scoped>\n",
       "    .dataframe tbody tr th:only-of-type {\n",
       "        vertical-align: middle;\n",
       "    }\n",
       "\n",
       "    .dataframe tbody tr th {\n",
       "        vertical-align: top;\n",
       "    }\n",
       "\n",
       "    .dataframe thead th {\n",
       "        text-align: right;\n",
       "    }\n",
       "</style>\n",
       "<table border=\"1\" class=\"dataframe\">\n",
       "  <thead>\n",
       "    <tr style=\"text-align: right;\">\n",
       "      <th></th>\n",
       "      <th>Open</th>\n",
       "      <th>High</th>\n",
       "      <th>Low</th>\n",
       "      <th>Close</th>\n",
       "      <th>Volume</th>\n",
       "      <th>tomorrow</th>\n",
       "      <th>Target</th>\n",
       "    </tr>\n",
       "    <tr>\n",
       "      <th>Date</th>\n",
       "      <th></th>\n",
       "      <th></th>\n",
       "      <th></th>\n",
       "      <th></th>\n",
       "      <th></th>\n",
       "      <th></th>\n",
       "      <th></th>\n",
       "    </tr>\n",
       "  </thead>\n",
       "  <tbody>\n",
       "    <tr>\n",
       "      <th>1927-12-30 00:00:00-05:00</th>\n",
       "      <td>17.660000</td>\n",
       "      <td>17.660000</td>\n",
       "      <td>17.660000</td>\n",
       "      <td>17.660000</td>\n",
       "      <td>0</td>\n",
       "      <td>17.760000</td>\n",
       "      <td>1</td>\n",
       "    </tr>\n",
       "    <tr>\n",
       "      <th>1928-01-03 00:00:00-05:00</th>\n",
       "      <td>17.760000</td>\n",
       "      <td>17.760000</td>\n",
       "      <td>17.760000</td>\n",
       "      <td>17.760000</td>\n",
       "      <td>0</td>\n",
       "      <td>17.719999</td>\n",
       "      <td>0</td>\n",
       "    </tr>\n",
       "    <tr>\n",
       "      <th>1928-01-04 00:00:00-05:00</th>\n",
       "      <td>17.719999</td>\n",
       "      <td>17.719999</td>\n",
       "      <td>17.719999</td>\n",
       "      <td>17.719999</td>\n",
       "      <td>0</td>\n",
       "      <td>17.549999</td>\n",
       "      <td>0</td>\n",
       "    </tr>\n",
       "    <tr>\n",
       "      <th>1928-01-05 00:00:00-05:00</th>\n",
       "      <td>17.549999</td>\n",
       "      <td>17.549999</td>\n",
       "      <td>17.549999</td>\n",
       "      <td>17.549999</td>\n",
       "      <td>0</td>\n",
       "      <td>17.660000</td>\n",
       "      <td>1</td>\n",
       "    </tr>\n",
       "    <tr>\n",
       "      <th>1928-01-06 00:00:00-05:00</th>\n",
       "      <td>17.660000</td>\n",
       "      <td>17.660000</td>\n",
       "      <td>17.660000</td>\n",
       "      <td>17.660000</td>\n",
       "      <td>0</td>\n",
       "      <td>17.500000</td>\n",
       "      <td>0</td>\n",
       "    </tr>\n",
       "    <tr>\n",
       "      <th>...</th>\n",
       "      <td>...</td>\n",
       "      <td>...</td>\n",
       "      <td>...</td>\n",
       "      <td>...</td>\n",
       "      <td>...</td>\n",
       "      <td>...</td>\n",
       "      <td>...</td>\n",
       "    </tr>\n",
       "    <tr>\n",
       "      <th>2023-08-04 00:00:00-04:00</th>\n",
       "      <td>4513.959961</td>\n",
       "      <td>4540.339844</td>\n",
       "      <td>4474.549805</td>\n",
       "      <td>4478.029785</td>\n",
       "      <td>4143310000</td>\n",
       "      <td>4518.439941</td>\n",
       "      <td>1</td>\n",
       "    </tr>\n",
       "    <tr>\n",
       "      <th>2023-08-07 00:00:00-04:00</th>\n",
       "      <td>4491.580078</td>\n",
       "      <td>4519.839844</td>\n",
       "      <td>4491.149902</td>\n",
       "      <td>4518.439941</td>\n",
       "      <td>3493920000</td>\n",
       "      <td>4499.379883</td>\n",
       "      <td>0</td>\n",
       "    </tr>\n",
       "    <tr>\n",
       "      <th>2023-08-08 00:00:00-04:00</th>\n",
       "      <td>4498.029785</td>\n",
       "      <td>4503.310059</td>\n",
       "      <td>4464.390137</td>\n",
       "      <td>4499.379883</td>\n",
       "      <td>3884910000</td>\n",
       "      <td>4467.709961</td>\n",
       "      <td>0</td>\n",
       "    </tr>\n",
       "    <tr>\n",
       "      <th>2023-08-09 00:00:00-04:00</th>\n",
       "      <td>4501.569824</td>\n",
       "      <td>4502.439941</td>\n",
       "      <td>4461.330078</td>\n",
       "      <td>4467.709961</td>\n",
       "      <td>3803100000</td>\n",
       "      <td>4468.830078</td>\n",
       "      <td>1</td>\n",
       "    </tr>\n",
       "    <tr>\n",
       "      <th>2023-08-10 00:00:00-04:00</th>\n",
       "      <td>4487.160156</td>\n",
       "      <td>4527.370117</td>\n",
       "      <td>4457.919922</td>\n",
       "      <td>4468.830078</td>\n",
       "      <td>4504370000</td>\n",
       "      <td>NaN</td>\n",
       "      <td>0</td>\n",
       "    </tr>\n",
       "  </tbody>\n",
       "</table>\n",
       "<p>24017 rows × 7 columns</p>\n",
       "</div>"
      ],
      "text/plain": [
       "                                  Open         High          Low        Close  \\\n",
       "Date                                                                            \n",
       "1927-12-30 00:00:00-05:00    17.660000    17.660000    17.660000    17.660000   \n",
       "1928-01-03 00:00:00-05:00    17.760000    17.760000    17.760000    17.760000   \n",
       "1928-01-04 00:00:00-05:00    17.719999    17.719999    17.719999    17.719999   \n",
       "1928-01-05 00:00:00-05:00    17.549999    17.549999    17.549999    17.549999   \n",
       "1928-01-06 00:00:00-05:00    17.660000    17.660000    17.660000    17.660000   \n",
       "...                                ...          ...          ...          ...   \n",
       "2023-08-04 00:00:00-04:00  4513.959961  4540.339844  4474.549805  4478.029785   \n",
       "2023-08-07 00:00:00-04:00  4491.580078  4519.839844  4491.149902  4518.439941   \n",
       "2023-08-08 00:00:00-04:00  4498.029785  4503.310059  4464.390137  4499.379883   \n",
       "2023-08-09 00:00:00-04:00  4501.569824  4502.439941  4461.330078  4467.709961   \n",
       "2023-08-10 00:00:00-04:00  4487.160156  4527.370117  4457.919922  4468.830078   \n",
       "\n",
       "                               Volume     tomorrow  Target  \n",
       "Date                                                        \n",
       "1927-12-30 00:00:00-05:00           0    17.760000       1  \n",
       "1928-01-03 00:00:00-05:00           0    17.719999       0  \n",
       "1928-01-04 00:00:00-05:00           0    17.549999       0  \n",
       "1928-01-05 00:00:00-05:00           0    17.660000       1  \n",
       "1928-01-06 00:00:00-05:00           0    17.500000       0  \n",
       "...                               ...          ...     ...  \n",
       "2023-08-04 00:00:00-04:00  4143310000  4518.439941       1  \n",
       "2023-08-07 00:00:00-04:00  3493920000  4499.379883       0  \n",
       "2023-08-08 00:00:00-04:00  3884910000  4467.709961       0  \n",
       "2023-08-09 00:00:00-04:00  3803100000  4468.830078       1  \n",
       "2023-08-10 00:00:00-04:00  4504370000          NaN       0  \n",
       "\n",
       "[24017 rows x 7 columns]"
      ]
     },
     "execution_count": 57,
     "metadata": {},
     "output_type": "execute_result"
    }
   ],
   "source": [
    "sp500"
   ]
  },
  {
   "cell_type": "code",
   "execution_count": 58,
   "id": "f781a82a",
   "metadata": {},
   "outputs": [],
   "source": [
    "sp500=sp500.loc[\"1990-01-01\":].copy()"
   ]
  },
  {
   "cell_type": "code",
   "execution_count": 59,
   "id": "9131055b",
   "metadata": {},
   "outputs": [
    {
     "data": {
      "text/plain": [
       "<AxesSubplot:xlabel='Date'>"
      ]
     },
     "execution_count": 59,
     "metadata": {},
     "output_type": "execute_result"
    },
    {
     "data": {
      "image/png": "[encoded data removed]",
      "text/plain": [
       "<Figure size 432x288 with 1 Axes>"
      ]
     },
     "metadata": {
      "needs_background": "light"
     },
     "output_type": "display_data"
    }
   ],
   "source": [
    "sp500.plot.line(y=\"Close\",use_index=True)"
   ]
  },
  {
   "cell_type": "code",
   "execution_count": 60,
   "id": "7824d1f4",
   "metadata": {},
   "outputs": [
    {
     "data": {
      "text/html": [
       "<style>#sk-container-id-2 {color: black;background-color: white;}#sk-container-id-2 pre{padding: 0;}#sk-container-id-2 div.sk-toggleable {background-color: white;}#sk-container-id-2 label.sk-toggleable__label {cursor: pointer;display: block;width: 100%;margin-bottom: 0;padding: 0.3em;box-sizing: border-box;text-align: center;}#sk-container-id-2 label.sk-toggleable__label-arrow:before {content: \"▸\";float: left;margin-right: 0.25em;color: #696969;}#sk-container-id-2 label.sk-toggleable__label-arrow:hover:before {color: black;}#sk-container-id-2 div.sk-estimator:hover label.sk-toggleable__label-arrow:before {color: black;}#sk-container-id-2 div.sk-toggleable__content {max-height: 0;max-width: 0;overflow: hidden;text-align: left;background-color: #f0f8ff;}#sk-container-id-2 div.sk-toggleable__content pre {margin: 0.2em;color: black;border-radius: 0.25em;background-color: #f0f8ff;}#sk-container-id-2 input.sk-toggleable__control:checked~div.sk-toggleable__content {max-height: 200px;max-width: 100%;overflow: auto;}#sk-container-id-2 input.sk-toggleable__control:checked~label.sk-toggleable__label-arrow:before {content: \"▾\";}#sk-container-id-2 div.sk-estimator input.sk-toggleable__control:checked~label.sk-toggleable__label {background-color: #d4ebff;}#sk-container-id-2 div.sk-label input.sk-toggleable__control:checked~label.sk-toggleable__label {background-color: #d4ebff;}#sk-container-id-2 input.sk-hidden--visually {border: 0;clip: rect(1px 1px 1px 1px);clip: rect(1px, 1px, 1px, 1px);height: 1px;margin: -1px;overflow: hidden;padding: 0;position: absolute;width: 1px;}#sk-container-id-2 div.sk-estimator {font-family: monospace;background-color: #f0f8ff;border: 1px dotted black;border-radius: 0.25em;box-sizing: border-box;margin-bottom: 0.5em;}#sk-container-id-2 div.sk-estimator:hover {background-color: #d4ebff;}#sk-container-id-2 div.sk-parallel-item::after {content: \"\";width: 100%;border-bottom: 1px solid gray;flex-grow: 1;}#sk-container-id-2 div.sk-label:hover label.sk-toggleable__label {background-color: #d4ebff;}#sk-container-id-2 div.sk-serial::before {content: \"\";position: absolute;border-left: 1px solid gray;box-sizing: border-box;top: 0;bottom: 0;left: 50%;z-index: 0;}#sk-container-id-2 div.sk-serial {display: flex;flex-direction: column;align-items: center;background-color: white;padding-right: 0.2em;padding-left: 0.2em;position: relative;}#sk-container-id-2 div.sk-item {position: relative;z-index: 1;}#sk-container-id-2 div.sk-parallel {display: flex;align-items: stretch;justify-content: center;background-color: white;position: relative;}#sk-container-id-2 div.sk-item::before, #sk-container-id-2 div.sk-parallel-item::before {content: \"\";position: absolute;border-left: 1px solid gray;box-sizing: border-box;top: 0;bottom: 0;left: 50%;z-index: -1;}#sk-container-id-2 div.sk-parallel-item {display: flex;flex-direction: column;z-index: 1;position: relative;background-color: white;}#sk-container-id-2 div.sk-parallel-item:first-child::after {align-self: flex-end;width: 50%;}#sk-container-id-2 div.sk-parallel-item:last-child::after {align-self: flex-start;width: 50%;}#sk-container-id-2 div.sk-parallel-item:only-child::after {width: 0;}#sk-container-id-2 div.sk-dashed-wrapped {border: 1px dashed gray;margin: 0 0.4em 0.5em 0.4em;box-sizing: border-box;padding-bottom: 0.4em;background-color: white;}#sk-container-id-2 div.sk-label label {font-family: monospace;font-weight: bold;display: inline-block;line-height: 1.2em;}#sk-container-id-2 div.sk-label-container {text-align: center;}#sk-container-id-2 div.sk-container {/* jupyter's `normalize.less` sets `[hidden] { display: none; }` but bootstrap.min.css set `[hidden] { display: none !important; }` so we also need the `!important` here to be able to override the default hidden behavior on the sphinx rendered scikit-learn.org. See: https://github.com/scikit-learn/scikit-learn/issues/21755 */display: inline-block !important;position: relative;}#sk-container-id-2 div.sk-text-repr-fallback {display: none;}</style><div id=\"sk-container-id-2\" class=\"sk-top-container\"><div class=\"sk-text-repr-fallback\"><pre>RandomForestClassifier(min_samples_split=100, random_state=1)</pre><b>In a Jupyter environment, please rerun this cell to show the HTML representation or trust the notebook. <br />On GitHub, the HTML representation is unable to render, please try loading this page with nbviewer.org.</b></div><div class=\"sk-container\" hidden><div class=\"sk-item\"><div class=\"sk-estimator sk-toggleable\"><input class=\"sk-toggleable__control sk-hidden--visually\" id=\"sk-estimator-id-2\" type=\"checkbox\" checked><label for=\"sk-estimator-id-2\" class=\"sk-toggleable__label sk-toggleable__label-arrow\">RandomForestClassifier</label><div class=\"sk-toggleable__content\"><pre>RandomForestClassifier(min_samples_split=100, random_state=1)</pre></div></div></div></div></div>"
      ],
      "text/plain": [
       "RandomForestClassifier(min_samples_split=100, random_state=1)"
      ]
     },
     "execution_count": 60,
     "metadata": {},
     "output_type": "execute_result"
    }
   ],
   "source": [
    "model = RandomForestClassifier(n_estimators=100, min_samples_split=100, random_state=1)\n",
    "\n",
    "train=sp500.iloc[:-100]\n",
    "test=sp500.iloc[-100:]\n",
    "\n",
    "predictors =[\"Close\",\"Open\",\"Volume\",\"High\",\"Low\"]\n",
    "model.fit(train[predictors],train[\"Target\"])\n"
   ]
  },
  {
   "cell_type": "code",
   "execution_count": 61,
   "id": "03dcbcc4",
   "metadata": {},
   "outputs": [],
   "source": [
    "preds = model.predict(test[predictors])"
   ]
  },
  {
   "cell_type": "code",
   "execution_count": 62,
   "id": "627c1677",
   "metadata": {},
   "outputs": [
    {
     "data": {
      "text/plain": [
       "array([1, 0, 0, 0, 0, 0, 0, 0, 0, 0, 0, 1, 0, 0, 0, 0, 1, 0, 0, 0, 0, 0,\n",
       "       1, 1, 0, 1, 0, 0, 0, 0, 1, 0, 0, 0, 1, 1, 0, 1, 1, 1, 1, 0, 0, 0,\n",
       "       0, 0, 1, 0, 1, 0, 1, 0, 1, 1, 1, 1, 1, 1, 1, 1, 1, 1, 0, 0, 1, 1,\n",
       "       0, 0, 1, 1, 1, 1, 1, 1, 1, 1, 0, 1, 1, 1, 1, 1, 1, 1, 1, 1, 1, 1,\n",
       "       1, 1, 1, 1, 1, 1, 0, 0, 1, 1, 1, 1])"
      ]
     },
     "execution_count": 62,
     "metadata": {},
     "output_type": "execute_result"
    }
   ],
   "source": [
    "preds"
   ]
  },
  {
   "cell_type": "code",
   "execution_count": 97,
   "id": "c2946128",
   "metadata": {},
   "outputs": [],
   "source": [
    "import pandas as pd\n",
    "\n",
    "preds = pd.Series(preds, index=test.index, name=\"Predictions\")"
   ]
  },
  {
   "cell_type": "code",
   "execution_count": 98,
   "id": "1b017b3c",
   "metadata": {},
   "outputs": [
    {
     "data": {
      "text/plain": [
       "Date\n",
       "2023-03-20 00:00:00-04:00    1\n",
       "2023-03-21 00:00:00-04:00    0\n",
       "2023-03-22 00:00:00-04:00    0\n",
       "2023-03-23 00:00:00-04:00    0\n",
       "2023-03-24 00:00:00-04:00    0\n",
       "                            ..\n",
       "2023-08-04 00:00:00-04:00    0\n",
       "2023-08-07 00:00:00-04:00    1\n",
       "2023-08-08 00:00:00-04:00    1\n",
       "2023-08-09 00:00:00-04:00    1\n",
       "2023-08-10 00:00:00-04:00    1\n",
       "Name: Predictions, Length: 100, dtype: int32"
      ]
     },
     "execution_count": 98,
     "metadata": {},
     "output_type": "execute_result"
    }
   ],
   "source": [
    "preds"
   ]
  },
  {
   "cell_type": "code",
   "execution_count": 100,
   "id": "d45c5b37",
   "metadata": {},
   "outputs": [
    {
     "data": {
      "text/plain": [
       "0.5789473684210527"
      ]
     },
     "execution_count": 100,
     "metadata": {},
     "output_type": "execute_result"
    }
   ],
   "source": [
    "precision_score(test[\"Target\"],preds)"
   ]
  },
  {
   "cell_type": "code",
   "execution_count": 66,
   "id": "33da093f",
   "metadata": {},
   "outputs": [],
   "source": [
    "combined=pd.concat([test[\"Target\"],preds],axis=1)"
   ]
  },
  {
   "cell_type": "code",
   "execution_count": 67,
   "id": "dbd9e1c5",
   "metadata": {},
   "outputs": [
    {
     "data": {
      "text/plain": [
       "<AxesSubplot:xlabel='Date'>"
      ]
     },
     "execution_count": 67,
     "metadata": {},
     "output_type": "execute_result"
    },
    {
     "data": {
      "image/png": "[encoded data removed]",
      "text/plain": [
       "<Figure size 432x288 with 1 Axes>"
      ]
     },
     "metadata": {
      "needs_background": "light"
     },
     "output_type": "display_data"
    }
   ],
   "source": [
    "combined.plot()"
   ]
  },
  {
   "cell_type": "markdown",
   "id": "f1e6fc83",
   "metadata": {},
   "source": [
    "## Building a Backtesting system "
   ]
  },
  {
   "cell_type": "code",
   "execution_count": 72,
   "id": "de26118a",
   "metadata": {},
   "outputs": [],
   "source": [
    "def predict(test, train, predictors, model):\n",
    "    model.fit(train[predictors], train[\"Target\"])\n",
    "    preds = model.predict(test[predictors])\n",
    "    preds_series = pd.Series(preds, index=test.index, name=\"Predictions\")\n",
    "    combined = pd.concat([test[\"Target\"], preds_series], axis=1)\n",
    "    return combined\n",
    "\n",
    "def backtest(data, model, predictors, start=2500, step=250):\n",
    "    all_predictions = []\n",
    "    imputer = SimpleImputer(strategy=\"mean\")\n",
    "    \n",
    "    for i in range(start, data.shape[0], step):\n",
    "        test = data.iloc[0:i].copy()\n",
    "        train = data.iloc[i:(i+step)].copy()\n",
    "        \n",
    "        # Impute missing values in test and train data\n",
    "        test_imputed = imputer.fit_transform(test)\n",
    "        train_imputed = imputer.transform(train)\n",
    "        \n",
    "        # Convert the imputed arrays back to DataFrames\n",
    "        test_imputed = pd.DataFrame(test_imputed, columns=test.columns, index=test.index)\n",
    "        train_imputed = pd.DataFrame(train_imputed, columns=train.columns, index=train.index)\n",
    "        \n",
    "        # Make predictions using the imputed data\n",
    "        predictions = predict(test_imputed, train_imputed, predictors, model)\n",
    "        all_predictions.append(predictions)\n",
    "        \n",
    "    return pd.concat(all_predictions)\n"
   ]
  },
  {
   "cell_type": "code",
   "execution_count": 73,
   "id": "fc62d834",
   "metadata": {},
   "outputs": [],
   "source": [
    "predictions = backtest(sp500,model,predictors)"
   ]
  },
  {
   "cell_type": "code",
   "execution_count": 74,
   "id": "e0153498",
   "metadata": {},
   "outputs": [
    {
     "data": {
      "text/plain": [
       "Predictions\n",
       "1.0    99020\n",
       "0.0    29980\n",
       "Name: count, dtype: int64"
      ]
     },
     "execution_count": 74,
     "metadata": {},
     "output_type": "execute_result"
    }
   ],
   "source": [
    "predictions[\"Predictions\"].value_counts()"
   ]
  },
  {
   "cell_type": "code",
   "execution_count": 75,
   "id": "5bfaaeb1",
   "metadata": {},
   "outputs": [
    {
     "data": {
      "text/plain": [
       "0.5347404564734397"
      ]
     },
     "execution_count": 75,
     "metadata": {},
     "output_type": "execute_result"
    }
   ],
   "source": [
    "precision_score(predictions[\"Target\"],predictions[\"Predictions\"])"
   ]
  },
  {
   "cell_type": "code",
   "execution_count": 76,
   "id": "82628afb",
   "metadata": {},
   "outputs": [],
   "source": [
    "horizons=[2,5,60,250,1000] #Hoirizons on which we want to see the rolling mean \n",
    "\n",
    "new_predictors=[]\n",
    "\n",
    "for horizon in horizons:\n",
    "    rolling_averages= sp500.rolling(horizon).mean()\n",
    "    \n",
    "    ratio_column = f\"Close_Ratio_{horizon}\"\n",
    "    sp500[ratio_column]=sp500[\"Close\"]/rolling_averages[\"Close\"]\n",
    "    \n",
    "    trend_column =f\"Trend_{horizon}\"\n",
    "    sp500[trend_column]=sp500.shift(1).rolling(horizon).sum()[\"Target\"]\n",
    "    \n",
    "    new_predictors +=[ratio_column, trend_column]"
   ]
  },
  {
   "cell_type": "code",
   "execution_count": 77,
   "id": "80e7af59",
   "metadata": {},
   "outputs": [
    {
     "data": {
      "text/html": [
       "<div>\n",
       "<style scoped>\n",
       "    .dataframe tbody tr th:only-of-type {\n",
       "        vertical-align: middle;\n",
       "    }\n",
       "\n",
       "    .dataframe tbody tr th {\n",
       "        vertical-align: top;\n",
       "    }\n",
       "\n",
       "    .dataframe thead th {\n",
       "        text-align: right;\n",
       "    }\n",
       "</style>\n",
       "<table border=\"1\" class=\"dataframe\">\n",
       "  <thead>\n",
       "    <tr style=\"text-align: right;\">\n",
       "      <th></th>\n",
       "      <th>Open</th>\n",
       "      <th>High</th>\n",
       "      <th>Low</th>\n",
       "      <th>Close</th>\n",
       "      <th>Volume</th>\n",
       "      <th>tomorrow</th>\n",
       "      <th>Target</th>\n",
       "      <th>Close_Ratio_2</th>\n",
       "      <th>Trend_2</th>\n",
       "      <th>Close_Ratio_5</th>\n",
       "      <th>Trend_5</th>\n",
       "      <th>Close_Ratio_60</th>\n",
       "      <th>Trend_60</th>\n",
       "      <th>Close_Ratio_250</th>\n",
       "      <th>Trend_250</th>\n",
       "      <th>Close_Ratio_1000</th>\n",
       "      <th>Trend_1000</th>\n",
       "    </tr>\n",
       "    <tr>\n",
       "      <th>Date</th>\n",
       "      <th></th>\n",
       "      <th></th>\n",
       "      <th></th>\n",
       "      <th></th>\n",
       "      <th></th>\n",
       "      <th></th>\n",
       "      <th></th>\n",
       "      <th></th>\n",
       "      <th></th>\n",
       "      <th></th>\n",
       "      <th></th>\n",
       "      <th></th>\n",
       "      <th></th>\n",
       "      <th></th>\n",
       "      <th></th>\n",
       "      <th></th>\n",
       "      <th></th>\n",
       "    </tr>\n",
       "  </thead>\n",
       "  <tbody>\n",
       "    <tr>\n",
       "      <th>1990-01-02 00:00:00-05:00</th>\n",
       "      <td>353.399994</td>\n",
       "      <td>359.690002</td>\n",
       "      <td>351.980011</td>\n",
       "      <td>359.690002</td>\n",
       "      <td>162070000</td>\n",
       "      <td>358.760010</td>\n",
       "      <td>0</td>\n",
       "      <td>NaN</td>\n",
       "      <td>NaN</td>\n",
       "      <td>NaN</td>\n",
       "      <td>NaN</td>\n",
       "      <td>NaN</td>\n",
       "      <td>NaN</td>\n",
       "      <td>NaN</td>\n",
       "      <td>NaN</td>\n",
       "      <td>NaN</td>\n",
       "      <td>NaN</td>\n",
       "    </tr>\n",
       "    <tr>\n",
       "      <th>1990-01-03 00:00:00-05:00</th>\n",
       "      <td>359.690002</td>\n",
       "      <td>360.589996</td>\n",
       "      <td>357.890015</td>\n",
       "      <td>358.760010</td>\n",
       "      <td>192330000</td>\n",
       "      <td>355.670013</td>\n",
       "      <td>0</td>\n",
       "      <td>0.998706</td>\n",
       "      <td>NaN</td>\n",
       "      <td>NaN</td>\n",
       "      <td>NaN</td>\n",
       "      <td>NaN</td>\n",
       "      <td>NaN</td>\n",
       "      <td>NaN</td>\n",
       "      <td>NaN</td>\n",
       "      <td>NaN</td>\n",
       "      <td>NaN</td>\n",
       "    </tr>\n",
       "    <tr>\n",
       "      <th>1990-01-04 00:00:00-05:00</th>\n",
       "      <td>358.760010</td>\n",
       "      <td>358.760010</td>\n",
       "      <td>352.890015</td>\n",
       "      <td>355.670013</td>\n",
       "      <td>177000000</td>\n",
       "      <td>352.200012</td>\n",
       "      <td>0</td>\n",
       "      <td>0.995675</td>\n",
       "      <td>0.0</td>\n",
       "      <td>NaN</td>\n",
       "      <td>NaN</td>\n",
       "      <td>NaN</td>\n",
       "      <td>NaN</td>\n",
       "      <td>NaN</td>\n",
       "      <td>NaN</td>\n",
       "      <td>NaN</td>\n",
       "      <td>NaN</td>\n",
       "    </tr>\n",
       "    <tr>\n",
       "      <th>1990-01-05 00:00:00-05:00</th>\n",
       "      <td>355.670013</td>\n",
       "      <td>355.670013</td>\n",
       "      <td>351.350006</td>\n",
       "      <td>352.200012</td>\n",
       "      <td>158530000</td>\n",
       "      <td>353.790009</td>\n",
       "      <td>1</td>\n",
       "      <td>0.995098</td>\n",
       "      <td>0.0</td>\n",
       "      <td>NaN</td>\n",
       "      <td>NaN</td>\n",
       "      <td>NaN</td>\n",
       "      <td>NaN</td>\n",
       "      <td>NaN</td>\n",
       "      <td>NaN</td>\n",
       "      <td>NaN</td>\n",
       "      <td>NaN</td>\n",
       "    </tr>\n",
       "    <tr>\n",
       "      <th>1990-01-08 00:00:00-05:00</th>\n",
       "      <td>352.200012</td>\n",
       "      <td>354.239990</td>\n",
       "      <td>350.540009</td>\n",
       "      <td>353.790009</td>\n",
       "      <td>140110000</td>\n",
       "      <td>349.619995</td>\n",
       "      <td>0</td>\n",
       "      <td>1.002252</td>\n",
       "      <td>1.0</td>\n",
       "      <td>0.993731</td>\n",
       "      <td>NaN</td>\n",
       "      <td>NaN</td>\n",
       "      <td>NaN</td>\n",
       "      <td>NaN</td>\n",
       "      <td>NaN</td>\n",
       "      <td>NaN</td>\n",
       "      <td>NaN</td>\n",
       "    </tr>\n",
       "    <tr>\n",
       "      <th>...</th>\n",
       "      <td>...</td>\n",
       "      <td>...</td>\n",
       "      <td>...</td>\n",
       "      <td>...</td>\n",
       "      <td>...</td>\n",
       "      <td>...</td>\n",
       "      <td>...</td>\n",
       "      <td>...</td>\n",
       "      <td>...</td>\n",
       "      <td>...</td>\n",
       "      <td>...</td>\n",
       "      <td>...</td>\n",
       "      <td>...</td>\n",
       "      <td>...</td>\n",
       "      <td>...</td>\n",
       "      <td>...</td>\n",
       "      <td>...</td>\n",
       "    </tr>\n",
       "    <tr>\n",
       "      <th>2023-08-04 00:00:00-04:00</th>\n",
       "      <td>4513.959961</td>\n",
       "      <td>4540.339844</td>\n",
       "      <td>4474.549805</td>\n",
       "      <td>4478.029785</td>\n",
       "      <td>4143310000</td>\n",
       "      <td>4518.439941</td>\n",
       "      <td>1</td>\n",
       "      <td>0.997343</td>\n",
       "      <td>0.0</td>\n",
       "      <td>0.988135</td>\n",
       "      <td>1.0</td>\n",
       "      <td>1.026023</td>\n",
       "      <td>34.0</td>\n",
       "      <td>1.102385</td>\n",
       "      <td>120.0</td>\n",
       "      <td>1.169678</td>\n",
       "      <td>535.0</td>\n",
       "    </tr>\n",
       "    <tr>\n",
       "      <th>2023-08-07 00:00:00-04:00</th>\n",
       "      <td>4491.580078</td>\n",
       "      <td>4519.839844</td>\n",
       "      <td>4491.149902</td>\n",
       "      <td>4518.439941</td>\n",
       "      <td>3493920000</td>\n",
       "      <td>4499.379883</td>\n",
       "      <td>0</td>\n",
       "      <td>1.004492</td>\n",
       "      <td>1.0</td>\n",
       "      <td>1.000165</td>\n",
       "      <td>1.0</td>\n",
       "      <td>1.033779</td>\n",
       "      <td>34.0</td>\n",
       "      <td>1.111919</td>\n",
       "      <td>121.0</td>\n",
       "      <td>1.179718</td>\n",
       "      <td>535.0</td>\n",
       "    </tr>\n",
       "    <tr>\n",
       "      <th>2023-08-08 00:00:00-04:00</th>\n",
       "      <td>4498.029785</td>\n",
       "      <td>4503.310059</td>\n",
       "      <td>4464.390137</td>\n",
       "      <td>4499.379883</td>\n",
       "      <td>3884910000</td>\n",
       "      <td>4467.709961</td>\n",
       "      <td>0</td>\n",
       "      <td>0.997886</td>\n",
       "      <td>1.0</td>\n",
       "      <td>0.999368</td>\n",
       "      <td>1.0</td>\n",
       "      <td>1.027972</td>\n",
       "      <td>34.0</td>\n",
       "      <td>1.106818</td>\n",
       "      <td>121.0</td>\n",
       "      <td>1.174248</td>\n",
       "      <td>534.0</td>\n",
       "    </tr>\n",
       "    <tr>\n",
       "      <th>2023-08-09 00:00:00-04:00</th>\n",
       "      <td>4501.569824</td>\n",
       "      <td>4502.439941</td>\n",
       "      <td>4461.330078</td>\n",
       "      <td>4467.709961</td>\n",
       "      <td>3803100000</td>\n",
       "      <td>4468.830078</td>\n",
       "      <td>1</td>\n",
       "      <td>0.996468</td>\n",
       "      <td>0.0</td>\n",
       "      <td>0.994351</td>\n",
       "      <td>1.0</td>\n",
       "      <td>1.019403</td>\n",
       "      <td>34.0</td>\n",
       "      <td>1.098749</td>\n",
       "      <td>120.0</td>\n",
       "      <td>1.165513</td>\n",
       "      <td>533.0</td>\n",
       "    </tr>\n",
       "    <tr>\n",
       "      <th>2023-08-10 00:00:00-04:00</th>\n",
       "      <td>4487.160156</td>\n",
       "      <td>4527.370117</td>\n",
       "      <td>4457.919922</td>\n",
       "      <td>4468.830078</td>\n",
       "      <td>4504370000</td>\n",
       "      <td>NaN</td>\n",
       "      <td>0</td>\n",
       "      <td>1.000125</td>\n",
       "      <td>1.0</td>\n",
       "      <td>0.996066</td>\n",
       "      <td>2.0</td>\n",
       "      <td>1.018371</td>\n",
       "      <td>34.0</td>\n",
       "      <td>1.098742</td>\n",
       "      <td>121.0</td>\n",
       "      <td>1.165328</td>\n",
       "      <td>534.0</td>\n",
       "    </tr>\n",
       "  </tbody>\n",
       "</table>\n",
       "<p>8467 rows × 17 columns</p>\n",
       "</div>"
      ],
      "text/plain": [
       "                                  Open         High          Low        Close  \\\n",
       "Date                                                                            \n",
       "1990-01-02 00:00:00-05:00   353.399994   359.690002   351.980011   359.690002   \n",
       "1990-01-03 00:00:00-05:00   359.690002   360.589996   357.890015   358.760010   \n",
       "1990-01-04 00:00:00-05:00   358.760010   358.760010   352.890015   355.670013   \n",
       "1990-01-05 00:00:00-05:00   355.670013   355.670013   351.350006   352.200012   \n",
       "1990-01-08 00:00:00-05:00   352.200012   354.239990   350.540009   353.790009   \n",
       "...                                ...          ...          ...          ...   \n",
       "2023-08-04 00:00:00-04:00  4513.959961  4540.339844  4474.549805  4478.029785   \n",
       "2023-08-07 00:00:00-04:00  4491.580078  4519.839844  4491.149902  4518.439941   \n",
       "2023-08-08 00:00:00-04:00  4498.029785  4503.310059  4464.390137  4499.379883   \n",
       "2023-08-09 00:00:00-04:00  4501.569824  4502.439941  4461.330078  4467.709961   \n",
       "2023-08-10 00:00:00-04:00  4487.160156  4527.370117  4457.919922  4468.830078   \n",
       "\n",
       "                               Volume     tomorrow  Target  Close_Ratio_2  \\\n",
       "Date                                                                        \n",
       "1990-01-02 00:00:00-05:00   162070000   358.760010       0            NaN   \n",
       "1990-01-03 00:00:00-05:00   192330000   355.670013       0       0.998706   \n",
       "1990-01-04 00:00:00-05:00   177000000   352.200012       0       0.995675   \n",
       "1990-01-05 00:00:00-05:00   158530000   353.790009       1       0.995098   \n",
       "1990-01-08 00:00:00-05:00   140110000   349.619995       0       1.002252   \n",
       "...                               ...          ...     ...            ...   \n",
       "2023-08-04 00:00:00-04:00  4143310000  4518.439941       1       0.997343   \n",
       "2023-08-07 00:00:00-04:00  3493920000  4499.379883       0       1.004492   \n",
       "2023-08-08 00:00:00-04:00  3884910000  4467.709961       0       0.997886   \n",
       "2023-08-09 00:00:00-04:00  3803100000  4468.830078       1       0.996468   \n",
       "2023-08-10 00:00:00-04:00  4504370000          NaN       0       1.000125   \n",
       "\n",
       "                           Trend_2  Close_Ratio_5  Trend_5  Close_Ratio_60  \\\n",
       "Date                                                                         \n",
       "1990-01-02 00:00:00-05:00      NaN            NaN      NaN             NaN   \n",
       "1990-01-03 00:00:00-05:00      NaN            NaN      NaN             NaN   \n",
       "1990-01-04 00:00:00-05:00      0.0            NaN      NaN             NaN   \n",
       "1990-01-05 00:00:00-05:00      0.0            NaN      NaN             NaN   \n",
       "1990-01-08 00:00:00-05:00      1.0       0.993731      NaN             NaN   \n",
       "...                            ...            ...      ...             ...   \n",
       "2023-08-04 00:00:00-04:00      0.0       0.988135      1.0        1.026023   \n",
       "2023-08-07 00:00:00-04:00      1.0       1.000165      1.0        1.033779   \n",
       "2023-08-08 00:00:00-04:00      1.0       0.999368      1.0        1.027972   \n",
       "2023-08-09 00:00:00-04:00      0.0       0.994351      1.0        1.019403   \n",
       "2023-08-10 00:00:00-04:00      1.0       0.996066      2.0        1.018371   \n",
       "\n",
       "                           Trend_60  Close_Ratio_250  Trend_250  \\\n",
       "Date                                                              \n",
       "1990-01-02 00:00:00-05:00       NaN              NaN        NaN   \n",
       "1990-01-03 00:00:00-05:00       NaN              NaN        NaN   \n",
       "1990-01-04 00:00:00-05:00       NaN              NaN        NaN   \n",
       "1990-01-05 00:00:00-05:00       NaN              NaN        NaN   \n",
       "1990-01-08 00:00:00-05:00       NaN              NaN        NaN   \n",
       "...                             ...              ...        ...   \n",
       "2023-08-04 00:00:00-04:00      34.0         1.102385      120.0   \n",
       "2023-08-07 00:00:00-04:00      34.0         1.111919      121.0   \n",
       "2023-08-08 00:00:00-04:00      34.0         1.106818      121.0   \n",
       "2023-08-09 00:00:00-04:00      34.0         1.098749      120.0   \n",
       "2023-08-10 00:00:00-04:00      34.0         1.098742      121.0   \n",
       "\n",
       "                           Close_Ratio_1000  Trend_1000  \n",
       "Date                                                     \n",
       "1990-01-02 00:00:00-05:00               NaN         NaN  \n",
       "1990-01-03 00:00:00-05:00               NaN         NaN  \n",
       "1990-01-04 00:00:00-05:00               NaN         NaN  \n",
       "1990-01-05 00:00:00-05:00               NaN         NaN  \n",
       "1990-01-08 00:00:00-05:00               NaN         NaN  \n",
       "...                                     ...         ...  \n",
       "2023-08-04 00:00:00-04:00          1.169678       535.0  \n",
       "2023-08-07 00:00:00-04:00          1.179718       535.0  \n",
       "2023-08-08 00:00:00-04:00          1.174248       534.0  \n",
       "2023-08-09 00:00:00-04:00          1.165513       533.0  \n",
       "2023-08-10 00:00:00-04:00          1.165328       534.0  \n",
       "\n",
       "[8467 rows x 17 columns]"
      ]
     },
     "execution_count": 77,
     "metadata": {},
     "output_type": "execute_result"
    }
   ],
   "source": [
    "sp500"
   ]
  },
  {
   "cell_type": "code",
   "execution_count": 106,
   "id": "dc79d602",
   "metadata": {},
   "outputs": [],
   "source": [
    "model = RandomForestClassifier(n_estimators=500, min_samples_split=100, random_state=1)"
   ]
  },
  {
   "cell_type": "code",
   "execution_count": 107,
   "id": "8f9e1f9c",
   "metadata": {},
   "outputs": [],
   "source": [
    "def predict(test, train, predictors, model):\n",
    "    model.fit(train[predictors], train[\"Target\"])\n",
    "    preds = model.predict_proba(test[predictors])[:,1]\n",
    "    \n",
    "    preds[preds>=0.7]=1\n",
    "    preds[preds<0.7]=0\n",
    "    \n",
    "    preds_series = pd.Series(preds, index=test.index, name=\"Predictions\")\n",
    "    combined = pd.concat([test[\"Target\"], preds_series], axis=1)\n",
    "    return combined"
   ]
  },
  {
   "cell_type": "code",
   "execution_count": 108,
   "id": "ebbd811f",
   "metadata": {},
   "outputs": [],
   "source": [
    "predict=backtest(sp500,model,new_predictors)"
   ]
  },
  {
   "cell_type": "code",
   "execution_count": 109,
   "id": "b9c2cbda",
   "metadata": {},
   "outputs": [
    {
     "data": {
      "text/plain": [
       "Predictions\n",
       "1.0    99020\n",
       "0.0    29980\n",
       "Name: count, dtype: int64"
      ]
     },
     "execution_count": 109,
     "metadata": {},
     "output_type": "execute_result"
    }
   ],
   "source": [
    "predictions[\"Predictions\"].value_counts()"
   ]
  },
  {
   "cell_type": "code",
   "execution_count": 110,
   "id": "186d01d2",
   "metadata": {},
   "outputs": [
    {
     "data": {
      "text/plain": [
       "0.5347404564734397"
      ]
     },
     "execution_count": 110,
     "metadata": {},
     "output_type": "execute_result"
    }
   ],
   "source": [
    "precision_score(predictions[\"Target\"],predictions[\"Predictions\"])"
   ]
  },
  {
   "cell_type": "markdown",
   "id": "a2027809",
   "metadata": {},
   "source": [
    "# Explore Commodities"
   ]
  },
  {
   "cell_type": "code",
   "execution_count": 115,
   "id": "b7a677b7",
   "metadata": {},
   "outputs": [],
   "source": [
    "steel = yf.Ticker(\"STEEL\")\n",
    "steel = steel.history(period=\"max\")"
   ]
  },
  {
   "cell_type": "code",
   "execution_count": 116,
   "id": "5f599172",
   "metadata": {},
   "outputs": [
    {
     "data": {
      "text/html": [
       "<div>\n",
       "<style scoped>\n",
       "    .dataframe tbody tr th:only-of-type {\n",
       "        vertical-align: middle;\n",
       "    }\n",
       "\n",
       "    .dataframe tbody tr th {\n",
       "        vertical-align: top;\n",
       "    }\n",
       "\n",
       "    .dataframe thead th {\n",
       "        text-align: right;\n",
       "    }\n",
       "</style>\n",
       "<table border=\"1\" class=\"dataframe\">\n",
       "  <thead>\n",
       "    <tr style=\"text-align: right;\">\n",
       "      <th></th>\n",
       "      <th>Open</th>\n",
       "      <th>High</th>\n",
       "      <th>Low</th>\n",
       "      <th>Close</th>\n",
       "      <th>Volume</th>\n",
       "      <th>Dividends</th>\n",
       "      <th>Stock Splits</th>\n",
       "    </tr>\n",
       "    <tr>\n",
       "      <th>Date</th>\n",
       "      <th></th>\n",
       "      <th></th>\n",
       "      <th></th>\n",
       "      <th></th>\n",
       "      <th></th>\n",
       "      <th></th>\n",
       "      <th></th>\n",
       "    </tr>\n",
       "  </thead>\n",
       "  <tbody>\n",
       "    <tr>\n",
       "      <th>2006-10-10 00:00:00-04:00</th>\n",
       "      <td>1091.709961</td>\n",
       "      <td>1091.709961</td>\n",
       "      <td>1091.709961</td>\n",
       "      <td>1091.709961</td>\n",
       "      <td>0</td>\n",
       "      <td>0.0</td>\n",
       "      <td>0.0</td>\n",
       "    </tr>\n",
       "    <tr>\n",
       "      <th>2006-12-29 00:00:00-05:00</th>\n",
       "      <td>1251.930054</td>\n",
       "      <td>1251.930054</td>\n",
       "      <td>1251.930054</td>\n",
       "      <td>1251.930054</td>\n",
       "      <td>0</td>\n",
       "      <td>0.0</td>\n",
       "      <td>0.0</td>\n",
       "    </tr>\n",
       "    <tr>\n",
       "      <th>2007-05-09 00:00:00-04:00</th>\n",
       "      <td>1753.859985</td>\n",
       "      <td>1753.859985</td>\n",
       "      <td>1753.859985</td>\n",
       "      <td>1753.859985</td>\n",
       "      <td>0</td>\n",
       "      <td>0.0</td>\n",
       "      <td>0.0</td>\n",
       "    </tr>\n",
       "    <tr>\n",
       "      <th>2007-05-14 00:00:00-04:00</th>\n",
       "      <td>1721.270020</td>\n",
       "      <td>1721.270020</td>\n",
       "      <td>1721.270020</td>\n",
       "      <td>1721.270020</td>\n",
       "      <td>0</td>\n",
       "      <td>0.0</td>\n",
       "      <td>0.0</td>\n",
       "    </tr>\n",
       "    <tr>\n",
       "      <th>2007-05-30 00:00:00-04:00</th>\n",
       "      <td>1759.150024</td>\n",
       "      <td>1759.150024</td>\n",
       "      <td>1759.150024</td>\n",
       "      <td>1759.150024</td>\n",
       "      <td>0</td>\n",
       "      <td>0.0</td>\n",
       "      <td>0.0</td>\n",
       "    </tr>\n",
       "    <tr>\n",
       "      <th>...</th>\n",
       "      <td>...</td>\n",
       "      <td>...</td>\n",
       "      <td>...</td>\n",
       "      <td>...</td>\n",
       "      <td>...</td>\n",
       "      <td>...</td>\n",
       "      <td>...</td>\n",
       "    </tr>\n",
       "    <tr>\n",
       "      <th>2020-04-23 00:00:00-04:00</th>\n",
       "      <td>644.956970</td>\n",
       "      <td>644.956970</td>\n",
       "      <td>644.956970</td>\n",
       "      <td>644.956970</td>\n",
       "      <td>0</td>\n",
       "      <td>0.0</td>\n",
       "      <td>0.0</td>\n",
       "    </tr>\n",
       "    <tr>\n",
       "      <th>2020-04-24 00:00:00-04:00</th>\n",
       "      <td>636.463989</td>\n",
       "      <td>636.463989</td>\n",
       "      <td>636.463989</td>\n",
       "      <td>636.463989</td>\n",
       "      <td>0</td>\n",
       "      <td>0.0</td>\n",
       "      <td>0.0</td>\n",
       "    </tr>\n",
       "    <tr>\n",
       "      <th>2020-04-27 00:00:00-04:00</th>\n",
       "      <td>661.958984</td>\n",
       "      <td>661.958984</td>\n",
       "      <td>661.958984</td>\n",
       "      <td>661.958984</td>\n",
       "      <td>0</td>\n",
       "      <td>0.0</td>\n",
       "      <td>0.0</td>\n",
       "    </tr>\n",
       "    <tr>\n",
       "      <th>2020-04-28 00:00:00-04:00</th>\n",
       "      <td>672.565979</td>\n",
       "      <td>672.565979</td>\n",
       "      <td>672.565979</td>\n",
       "      <td>672.565979</td>\n",
       "      <td>0</td>\n",
       "      <td>0.0</td>\n",
       "      <td>0.0</td>\n",
       "    </tr>\n",
       "    <tr>\n",
       "      <th>2020-04-29 00:00:00-04:00</th>\n",
       "      <td>725.117004</td>\n",
       "      <td>725.117004</td>\n",
       "      <td>725.117004</td>\n",
       "      <td>725.117004</td>\n",
       "      <td>0</td>\n",
       "      <td>0.0</td>\n",
       "      <td>0.0</td>\n",
       "    </tr>\n",
       "  </tbody>\n",
       "</table>\n",
       "<p>1153 rows × 7 columns</p>\n",
       "</div>"
      ],
      "text/plain": [
       "                                  Open         High          Low        Close  \\\n",
       "Date                                                                            \n",
       "2006-10-10 00:00:00-04:00  1091.709961  1091.709961  1091.709961  1091.709961   \n",
       "2006-12-29 00:00:00-05:00  1251.930054  1251.930054  1251.930054  1251.930054   \n",
       "2007-05-09 00:00:00-04:00  1753.859985  1753.859985  1753.859985  1753.859985   \n",
       "2007-05-14 00:00:00-04:00  1721.270020  1721.270020  1721.270020  1721.270020   \n",
       "2007-05-30 00:00:00-04:00  1759.150024  1759.150024  1759.150024  1759.150024   \n",
       "...                                ...          ...          ...          ...   \n",
       "2020-04-23 00:00:00-04:00   644.956970   644.956970   644.956970   644.956970   \n",
       "2020-04-24 00:00:00-04:00   636.463989   636.463989   636.463989   636.463989   \n",
       "2020-04-27 00:00:00-04:00   661.958984   661.958984   661.958984   661.958984   \n",
       "2020-04-28 00:00:00-04:00   672.565979   672.565979   672.565979   672.565979   \n",
       "2020-04-29 00:00:00-04:00   725.117004   725.117004   725.117004   725.117004   \n",
       "\n",
       "                           Volume  Dividends  Stock Splits  \n",
       "Date                                                        \n",
       "2006-10-10 00:00:00-04:00       0        0.0           0.0  \n",
       "2006-12-29 00:00:00-05:00       0        0.0           0.0  \n",
       "2007-05-09 00:00:00-04:00       0        0.0           0.0  \n",
       "2007-05-14 00:00:00-04:00       0        0.0           0.0  \n",
       "2007-05-30 00:00:00-04:00       0        0.0           0.0  \n",
       "...                           ...        ...           ...  \n",
       "2020-04-23 00:00:00-04:00       0        0.0           0.0  \n",
       "2020-04-24 00:00:00-04:00       0        0.0           0.0  \n",
       "2020-04-27 00:00:00-04:00       0        0.0           0.0  \n",
       "2020-04-28 00:00:00-04:00       0        0.0           0.0  \n",
       "2020-04-29 00:00:00-04:00       0        0.0           0.0  \n",
       "\n",
       "[1153 rows x 7 columns]"
      ]
     },
     "execution_count": 116,
     "metadata": {},
     "output_type": "execute_result"
    }
   ],
   "source": [
    "steel"
   ]
  },
  {
   "cell_type": "code",
   "execution_count": 117,
   "id": "9d8596ea",
   "metadata": {},
   "outputs": [
    {
     "data": {
      "text/plain": [
       "<AxesSubplot:xlabel='Date'>"
      ]
     },
     "execution_count": 117,
     "metadata": {},
     "output_type": "execute_result"
    },
    {
     "data": {
      "image/png": "[encoded data removed]",
      "text/plain": [
       "<Figure size 432x288 with 1 Axes>"
      ]
     },
     "metadata": {
      "needs_background": "light"
     },
     "output_type": "display_data"
    }
   ],
   "source": [
    "steel.plot.line(y=\"Close\",use_index=True)"
   ]
  },
  {
   "cell_type": "code",
   "execution_count": 118,
   "id": "816266c6",
   "metadata": {},
   "outputs": [
    {
     "data": {
      "text/plain": [
       "<AxesSubplot:xlabel='Date'>"
      ]
     },
     "execution_count": 118,
     "metadata": {},
     "output_type": "execute_result"
    },
    {
     "data": {
      "image/png": "[encoded data removed]",
      "text/plain": [
       "<Figure size 432x288 with 1 Axes>"
      ]
     },
     "metadata": {
      "needs_background": "light"
     },
     "output_type": "display_data"
    }
   ],
   "source": [
    "lumber = yf.Ticker(\"LBR\")\n",
    "lumber = lumber.history(period=\"max\")\n",
    "lumber.plot.line(y=\"Close\",use_index=True)"
   ]
  },
  {
   "cell_type": "code",
   "execution_count": 123,
   "id": "3793de9c",
   "metadata": {},
   "outputs": [
    {
     "data": {
      "text/plain": [
       "<AxesSubplot:xlabel='Date'>"
      ]
     },
     "execution_count": 123,
     "metadata": {},
     "output_type": "execute_result"
    },
    {
     "data": {
      "image/png": "[encoded data removed]",
      "text/plain": [
       "<Figure size 432x288 with 1 Axes>"
      ]
     },
     "metadata": {
      "needs_background": "light"
     },
     "output_type": "display_data"
    }
   ],
   "source": [
    "copper = yf.Ticker(\"F*HG.CMX\")\n",
    "copper = copper.history(period=\"max\")\n",
    "copper.plot.line(y=\"Close\",use_index=True)"
   ]
  },
  {
   "cell_type": "code",
   "execution_count": 124,
   "id": "49fb2a5a",
   "metadata": {},
   "outputs": [
    {
     "data": {
      "text/plain": [
       "<AxesSubplot:xlabel='Date'>"
      ]
     },
     "execution_count": 124,
     "metadata": {},
     "output_type": "execute_result"
    },
    {
     "data": {
      "image/png": "[encoded data removed]",
      "text/plain": [
       "<Figure size 432x288 with 1 Axes>"
      ]
     },
     "metadata": {
      "needs_background": "light"
     },
     "output_type": "display_data"
    }
   ],
   "source": [
    "oil = yf.Ticker(\"CL=F\")\n",
    "oil = oil.history(period=\"max\")\n",
    "oil.plot.line(y=\"Close\",use_index=True)"
   ]
  },
  {
   "cell_type": "markdown",
   "id": "e0545f62",
   "metadata": {},
   "source": [
    "# PDF To Text"
   ]
  },
  {
   "cell_type": "code",
   "execution_count": 11,
   "id": "899155bb",
   "metadata": {},
   "outputs": [
    {
     "name": "stdout",
     "output_type": "stream",
     "text": [
      "Requirement already satisfied: PyPDF2 in c:\\users\\creat\\anaconda3\\lib\\site-packages (3.0.1)\n",
      "Requirement already satisfied: typing_extensions>=3.10.0.0 in c:\\users\\creat\\anaconda3\\lib\\site-packages (from PyPDF2) (4.7.1)\n"
     ]
    }
   ],
   "source": [
    "!pip install PyPDF2"
   ]
  },
  {
   "cell_type": "code",
   "execution_count": 13,
   "id": "1398269d",
   "metadata": {},
   "outputs": [
    {
     "name": "stdout",
     "output_type": "stream",
     "text": [
      "M E N UL O C A T I O N\n",
      "N o r t h E R N  I T A L I A N ",
      "\n",
      " C u i s i n e   9 : 4 1M o r n i n g  B u d d h a  B o w l\n",
      "T h i s  i s  o n e  t h e  f a m o u s  S a l a d  B o w l  o f  t h e  n o r t h  \n",
      "I t a l y ,  f a m o u s  a m o n g  t h e  y o u t h  \n",
      "F e t t u c i n e  A l f r e d o  P a s t a\n",
      "T h i s  i s  o n e  t h e  f a m o u s  p a s t a  o f  t h e  n o r t h  I t a l y9 : 4 1S e a t t l e\n",
      "B E S T  I T A L I A N  R E S T A U R A N T  N E A R  M E\n",
      "B E S T  I N G R E D I E N T S  E Q U A L  B E S T  I T A L I A N  \n",
      "S E A T T L E\n",
      "N e w  Y o r k  C i t y\n",
      "B E S T  I T A L I A N  R E S T A U R A N T  N E A R  M E\n",
      "B E S T  I N G R E D I E N T S  E Q U A L  B E S T  I T A L I A N  \n",
      "N Y C\n",
      "W O R K I N G  O N  B E I N G  T H E  B E S T  U P P E R  \n",
      "W E S T  S I D E  I T A L I A N  R E S T A U R A N T\n",
      "9 : 4 1\n"
     ]
    }
   ],
   "source": [
    "import PyPDF2\n",
    "\n",
    "def extract_text_from_pdf(pdf_path):\n",
    "    text = \"\"\n",
    "    with open(pdf_path, 'rb') as pdf_file:\n",
    "        pdf_reader = PyPDF2.PdfReader(pdf_file)\n",
    "        for page_num in range(len(pdf_reader.pages)):\n",
    "            page = pdf_reader.pages[page_num]\n",
    "            text += page.extract_text()\n",
    "    return text\n",
    "\n",
    "# Provide the PDF file path\n",
    "pdf_path = 'C:\\\\Users\\\\creat\\\\Desktop\\\\Personal\\\\code\\\\data_science_master\\\\_projects\\\\restaurant_app.pdf'\n",
    "\n",
    "# Extract text from PDF\n",
    "extracted_text = extract_text_from_pdf(pdf_path)\n",
    "print(extracted_text)\n"
   ]
  },
  {
   "cell_type": "markdown",
   "id": "4671c588",
   "metadata": {},
   "source": [
    "# Text to Speech"
   ]
  },
  {
   "cell_type": "code",
   "execution_count": 2,
   "id": "fe63a720",
   "metadata": {},
   "outputs": [
    {
     "name": "stdout",
     "output_type": "stream",
     "text": [
      "Requirement already satisfied: gTTS in c:\\users\\creat\\anaconda3\\lib\\site-packages (2.3.2)\n",
      "Requirement already satisfied: click<8.2,>=7.1 in c:\\users\\creat\\anaconda3\\lib\\site-packages (from gTTS) (8.0.3)\n",
      "Requirement already satisfied: requests<3,>=2.27 in c:\\users\\creat\\anaconda3\\lib\\site-packages (from gTTS) (2.31.0)\n",
      "Requirement already satisfied: colorama in c:\\users\\creat\\anaconda3\\lib\\site-packages (from click<8.2,>=7.1->gTTS) (0.4.4)\n",
      "Requirement already satisfied: idna<4,>=2.5 in c:\\users\\creat\\anaconda3\\lib\\site-packages (from requests<3,>=2.27->gTTS) (3.2)\n",
      "Requirement already satisfied: charset-normalizer<4,>=2 in c:\\users\\creat\\anaconda3\\lib\\site-packages (from requests<3,>=2.27->gTTS) (2.0.4)\n",
      "Requirement already satisfied: urllib3<3,>=1.21.1 in c:\\users\\creat\\anaconda3\\lib\\site-packages (from requests<3,>=2.27->gTTS) (1.26.7)\n",
      "Requirement already satisfied: certifi>=2017.4.17 in c:\\users\\creat\\anaconda3\\lib\\site-packages (from requests<3,>=2.27->gTTS) (2021.10.8)\n"
     ]
    }
   ],
   "source": [
    "!pip install gTTS\n",
    "!pip install nltk\n",
    "!pip install "
   ]
  },
  {
   "cell_type": "code",
   "execution_count": 4,
   "id": "d4c72ca7",
   "metadata": {},
   "outputs": [],
   "source": [
    "from gtts import gTTS\n",
    "import os\n",
    "\n",
    "def convert_to_indian_english(text):\n",
    "    # Create a gTTS object with the text and desired language (en-IN for Indian English)\n",
    "    indian_english_tts = gTTS(text, lang='en-IN')\n",
    "    \n",
    "    # Save the synthesized speech to a file\n",
    "    indian_english_tts.save(\"indian_english_output.mp3\")\n",
    "\n",
    "    # Play the generated speech using a system command (Linux)\n",
    "    os.system(\"mpg321 indian_english_output.mp3\")\n",
    "\n",
    "if __name__ == \"__main__\":\n",
    "    input_text = \"Hello, how are you?\"\n",
    "    convert_to_indian_english(input_text)"
   ]
  },
  {
   "cell_type": "code",
   "execution_count": 5,
   "id": "2dfeeb24",
   "metadata": {},
   "outputs": [],
   "source": [
    "from gtts import gTTS\n",
    "import os\n",
    "\n",
    "def convert_to_american_english(text):\n",
    "    # Create a gTTS object with the text and desired language (en for English)\n",
    "    american_english_tts = gTTS(text, lang='en')\n",
    "    \n",
    "    # Save the synthesized speech to a file\n",
    "    american_english_tts.save(\"american_english_output.mp3\")\n",
    "\n",
    "    # Play the generated speech using a system command (Linux)\n",
    "    os.system(\"mpg321 american_english_output.mp3\")\n",
    "\n",
    "if __name__ == \"__main__\":\n",
    "    input_text = \"Hello, how are you?\"\n",
    "    convert_to_american_english(input_text)\n"
   ]
  },
  {
   "cell_type": "code",
   "execution_count": 1,
   "id": "d36a7b04",
   "metadata": {},
   "outputs": [
    {
     "name": "stderr",
     "output_type": "stream",
     "text": [
      "[nltk_data] Downloading package cmudict to\n",
      "[nltk_data]     C:\\Users\\creat\\AppData\\Roaming\\nltk_data...\n",
      "[nltk_data]   Unzipping corpora\\cmudict.zip.\n"
     ]
    },
    {
     "name": "stdout",
     "output_type": "stream",
     "text": [
      "American Word: color\n",
      "Indian Phonemes: K AH1 L ER0\n"
     ]
    }
   ],
   "source": [
    "import nltk\n",
    "from nltk.corpus import cmudict\n",
    "\n",
    "# Download the CMU Pronouncing Dictionary\n",
    "nltk.download('cmudict')\n",
    "\n",
    "# Load the dictionary\n",
    "pronouncing_dict = cmudict.dict()\n",
    "\n",
    "# Convert a word to its phonemes\n",
    "def american_to_indian(word):\n",
    "    if word.lower() in pronouncing_dict:\n",
    "        phonemes = pronouncing_dict[word.lower()][0]\n",
    "        return ' '.join(phonemes)\n",
    "    else:\n",
    "        return word  # Return the original word if not found in the dictionary\n",
    "\n",
    "# Example usage\n",
    "american_word = \"color\"\n",
    "indian_phonemes = american_to_indian(american_word)\n",
    "print(f\"American Word: {american_word}\")\n",
    "print(f\"Indian Phonemes: {indian_phonemes}\")\n"
   ]
  },
  {
   "cell_type": "code",
   "execution_count": 3,
   "id": "59a444a3",
   "metadata": {},
   "outputs": [
    {
     "ename": "OSError",
     "evalue": "No file or directory found at american_model.h5",
     "output_type": "error",
     "traceback": [
      "\u001b[1;31m---------------------------------------------------------------------------\u001b[0m",
      "\u001b[1;31mOSError\u001b[0m                                   Traceback (most recent call last)",
      "\u001b[1;32m~\\AppData\\Local\\Temp/ipykernel_7120/1283713039.py\u001b[0m in \u001b[0;36m<module>\u001b[1;34m\u001b[0m\n\u001b[0;32m     20\u001b[0m \u001b[1;32mif\u001b[0m \u001b[0m__name__\u001b[0m \u001b[1;33m==\u001b[0m \u001b[1;34m\"__main__\"\u001b[0m\u001b[1;33m:\u001b[0m\u001b[1;33m\u001b[0m\u001b[1;33m\u001b[0m\u001b[0m\n\u001b[0;32m     21\u001b[0m     \u001b[0minput_audio\u001b[0m \u001b[1;33m=\u001b[0m \u001b[1;34m\"american_english_output.mp3\"\u001b[0m\u001b[1;33m\u001b[0m\u001b[1;33m\u001b[0m\u001b[0m\n\u001b[1;32m---> 22\u001b[1;33m     \u001b[0mindian_audio\u001b[0m \u001b[1;33m=\u001b[0m \u001b[0mconvert_to_indian_english\u001b[0m\u001b[1;33m(\u001b[0m\u001b[0minput_audio\u001b[0m\u001b[1;33m)\u001b[0m\u001b[1;33m\u001b[0m\u001b[1;33m\u001b[0m\u001b[0m\n\u001b[0m\u001b[0;32m     23\u001b[0m     \u001b[0msave_audio\u001b[0m\u001b[1;33m(\u001b[0m\u001b[0mindian_audio\u001b[0m\u001b[1;33m,\u001b[0m \u001b[1;34m\"indian_audio.wav\"\u001b[0m\u001b[1;33m)\u001b[0m\u001b[1;33m\u001b[0m\u001b[1;33m\u001b[0m\u001b[0m\n",
      "\u001b[1;32m~\\AppData\\Local\\Temp/ipykernel_7120/1283713039.py\u001b[0m in \u001b[0;36mconvert_to_indian_english\u001b[1;34m(input_audio)\u001b[0m\n\u001b[0;32m      4\u001b[0m \u001b[1;32mdef\u001b[0m \u001b[0mconvert_to_indian_english\u001b[0m\u001b[1;33m(\u001b[0m\u001b[0minput_audio\u001b[0m\u001b[1;33m)\u001b[0m\u001b[1;33m:\u001b[0m\u001b[1;33m\u001b[0m\u001b[1;33m\u001b[0m\u001b[0m\n\u001b[0;32m      5\u001b[0m     \u001b[1;31m# Load pre-trained models for American and Indian English\u001b[0m\u001b[1;33m\u001b[0m\u001b[1;33m\u001b[0m\u001b[0m\n\u001b[1;32m----> 6\u001b[1;33m     \u001b[0mamerican_model\u001b[0m \u001b[1;33m=\u001b[0m \u001b[0mtf\u001b[0m\u001b[1;33m.\u001b[0m\u001b[0mkeras\u001b[0m\u001b[1;33m.\u001b[0m\u001b[0mmodels\u001b[0m\u001b[1;33m.\u001b[0m\u001b[0mload_model\u001b[0m\u001b[1;33m(\u001b[0m\u001b[1;34m'american_model.h5'\u001b[0m\u001b[1;33m)\u001b[0m\u001b[1;33m\u001b[0m\u001b[1;33m\u001b[0m\u001b[0m\n\u001b[0m\u001b[0;32m      7\u001b[0m     \u001b[0mindian_model\u001b[0m \u001b[1;33m=\u001b[0m \u001b[0mtf\u001b[0m\u001b[1;33m.\u001b[0m\u001b[0mkeras\u001b[0m\u001b[1;33m.\u001b[0m\u001b[0mmodels\u001b[0m\u001b[1;33m.\u001b[0m\u001b[0mload_model\u001b[0m\u001b[1;33m(\u001b[0m\u001b[1;34m'indian_model.h5'\u001b[0m\u001b[1;33m)\u001b[0m\u001b[1;33m\u001b[0m\u001b[1;33m\u001b[0m\u001b[0m\n\u001b[0;32m      8\u001b[0m \u001b[1;33m\u001b[0m\u001b[0m\n",
      "\u001b[1;32m~\\anaconda3\\lib\\site-packages\\keras\\src\\saving\\saving_api.py\u001b[0m in \u001b[0;36mload_model\u001b[1;34m(filepath, custom_objects, compile, safe_mode, **kwargs)\u001b[0m\n\u001b[0;32m    236\u001b[0m \u001b[1;33m\u001b[0m\u001b[0m\n\u001b[0;32m    237\u001b[0m     \u001b[1;31m# Legacy case.\u001b[0m\u001b[1;33m\u001b[0m\u001b[1;33m\u001b[0m\u001b[0m\n\u001b[1;32m--> 238\u001b[1;33m     return legacy_sm_saving_lib.load_model(\n\u001b[0m\u001b[0;32m    239\u001b[0m         \u001b[0mfilepath\u001b[0m\u001b[1;33m,\u001b[0m \u001b[0mcustom_objects\u001b[0m\u001b[1;33m=\u001b[0m\u001b[0mcustom_objects\u001b[0m\u001b[1;33m,\u001b[0m \u001b[0mcompile\u001b[0m\u001b[1;33m=\u001b[0m\u001b[0mcompile\u001b[0m\u001b[1;33m,\u001b[0m \u001b[1;33m**\u001b[0m\u001b[0mkwargs\u001b[0m\u001b[1;33m\u001b[0m\u001b[1;33m\u001b[0m\u001b[0m\n\u001b[0;32m    240\u001b[0m     )\n",
      "\u001b[1;32m~\\anaconda3\\lib\\site-packages\\keras\\src\\utils\\traceback_utils.py\u001b[0m in \u001b[0;36merror_handler\u001b[1;34m(*args, **kwargs)\u001b[0m\n\u001b[0;32m     68\u001b[0m             \u001b[1;31m# To get the full stack trace, call:\u001b[0m\u001b[1;33m\u001b[0m\u001b[1;33m\u001b[0m\u001b[0m\n\u001b[0;32m     69\u001b[0m             \u001b[1;31m# `tf.debugging.disable_traceback_filtering()`\u001b[0m\u001b[1;33m\u001b[0m\u001b[1;33m\u001b[0m\u001b[0m\n\u001b[1;32m---> 70\u001b[1;33m             \u001b[1;32mraise\u001b[0m \u001b[0me\u001b[0m\u001b[1;33m.\u001b[0m\u001b[0mwith_traceback\u001b[0m\u001b[1;33m(\u001b[0m\u001b[0mfiltered_tb\u001b[0m\u001b[1;33m)\u001b[0m \u001b[1;32mfrom\u001b[0m \u001b[1;32mNone\u001b[0m\u001b[1;33m\u001b[0m\u001b[1;33m\u001b[0m\u001b[0m\n\u001b[0m\u001b[0;32m     71\u001b[0m         \u001b[1;32mfinally\u001b[0m\u001b[1;33m:\u001b[0m\u001b[1;33m\u001b[0m\u001b[1;33m\u001b[0m\u001b[0m\n\u001b[0;32m     72\u001b[0m             \u001b[1;32mdel\u001b[0m \u001b[0mfiltered_tb\u001b[0m\u001b[1;33m\u001b[0m\u001b[1;33m\u001b[0m\u001b[0m\n",
      "\u001b[1;32m~\\anaconda3\\lib\\site-packages\\keras\\src\\saving\\legacy\\save.py\u001b[0m in \u001b[0;36mload_model\u001b[1;34m(filepath, custom_objects, compile, options)\u001b[0m\n\u001b[0;32m    232\u001b[0m                     \u001b[1;32mif\u001b[0m \u001b[0misinstance\u001b[0m\u001b[1;33m(\u001b[0m\u001b[0mfilepath_str\u001b[0m\u001b[1;33m,\u001b[0m \u001b[0mstr\u001b[0m\u001b[1;33m)\u001b[0m\u001b[1;33m:\u001b[0m\u001b[1;33m\u001b[0m\u001b[1;33m\u001b[0m\u001b[0m\n\u001b[0;32m    233\u001b[0m                         \u001b[1;32mif\u001b[0m \u001b[1;32mnot\u001b[0m \u001b[0mtf\u001b[0m\u001b[1;33m.\u001b[0m\u001b[0mio\u001b[0m\u001b[1;33m.\u001b[0m\u001b[0mgfile\u001b[0m\u001b[1;33m.\u001b[0m\u001b[0mexists\u001b[0m\u001b[1;33m(\u001b[0m\u001b[0mfilepath_str\u001b[0m\u001b[1;33m)\u001b[0m\u001b[1;33m:\u001b[0m\u001b[1;33m\u001b[0m\u001b[1;33m\u001b[0m\u001b[0m\n\u001b[1;32m--> 234\u001b[1;33m                             raise IOError(\n\u001b[0m\u001b[0;32m    235\u001b[0m                                 \u001b[1;34mf\"No file or directory found at {filepath_str}\"\u001b[0m\u001b[1;33m\u001b[0m\u001b[1;33m\u001b[0m\u001b[0m\n\u001b[0;32m    236\u001b[0m                             )\n",
      "\u001b[1;31mOSError\u001b[0m: No file or directory found at american_model.h5"
     ]
    }
   ],
   "source": [
    "import numpy as np\n",
    "import tensorflow as tf\n",
    "\n",
    "# Define the phoneme mapping dictionary\n",
    "phoneme_mapping = {\n",
    "    'AH': 'AH',\n",
    "    'AE': 'AE',\n",
    "    # Add more mappings as needed\n",
    "}\n",
    "\n",
    "def convert_to_indian_english(input_audio):\n",
    "    # Load pre-trained models for American and Indian English\n",
    "    american_model = tf.keras.models.load_model('american_model.h5')\n",
    "    indian_model = tf.keras.models.load_model('indian_model.h5')\n",
    "    \n",
    "    # Extract features from the input audio (MFCCs or spectrograms)\n",
    "    features = extract_features(input_audio)\n",
    "    \n",
    "    # Convert features to Indian English style using style transfer algorithm\n",
    "    indian_features = style_transfer(features, american_model, indian_model)\n",
    "    \n",
    "    # Synthesize speech using the modified features\n",
    "    indian_audio = synthesize_audio(indian_features)\n",
    "    \n",
    "    return indian_audio\n",
    "\n",
    "if __name__ == \"__main__\":\n",
    "    input_audio = \"american_english_output.mp3\"\n",
    "    indian_audio = convert_to_indian_english(input_audio)\n",
    "    save_audio(indian_audio, \"indian_audio.wav\")\n"
   ]
  }
 ],
 "metadata": {
  "kernelspec": {
   "display_name": "Python 3 (ipykernel)",
   "language": "python",
   "name": "python3"
  },
  "language_info": {
   "codemirror_mode": {
    "name": "ipython",
    "version": 3
   },
   "file_extension": ".py",
   "mimetype": "text/x-python",
   "name": "python",
   "nbconvert_exporter": "python",
   "pygments_lexer": "ipython3",
   "version": "3.9.7"
  }
 },
 "nbformat": 4,
 "nbformat_minor": 5
}
