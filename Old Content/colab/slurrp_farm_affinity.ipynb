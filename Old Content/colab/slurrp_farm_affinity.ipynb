{
 "cells": [
  {
   "cell_type": "code",
   "execution_count": 1,
   "metadata": {},
   "outputs": [
    {
     "name": "stdout",
     "output_type": "stream",
     "text": [
      "Collecting ShopifyAPI\n",
      "  Downloading ShopifyAPI-8.4.2.tar.gz (32 kB)\n",
      "  Installing build dependencies: started\n",
      "  Installing build dependencies: finished with status 'done'\n",
      "  Getting requirements to build wheel: started\n",
      "  Getting requirements to build wheel: finished with status 'done'\n",
      "    Preparing wheel metadata: started\n",
      "    Preparing wheel metadata: finished with status 'done'\n",
      "Collecting PyJWT>=2.0.0; python_version >= \"3.6\"\n",
      "  Downloading PyJWT-2.1.0-py3-none-any.whl (16 kB)\n",
      "Requirement already satisfied, skipping upgrade: PyYAML in c:\\users\\creat\\anaconda3\\lib\\site-packages (from ShopifyAPI) (5.3.1)\n",
      "Collecting pyactiveresource>=2.2.2\n",
      "  Downloading pyactiveresource-2.2.2.tar.gz (19 kB)\n",
      "Requirement already satisfied, skipping upgrade: six in c:\\users\\creat\\anaconda3\\lib\\site-packages (from ShopifyAPI) (1.15.0)\n",
      "Building wheels for collected packages: ShopifyAPI, pyactiveresource\n",
      "  Building wheel for ShopifyAPI (PEP 517): started\n",
      "  Building wheel for ShopifyAPI (PEP 517): finished with status 'done'\n",
      "  Created wheel for ShopifyAPI: filename=ShopifyAPI-8.4.2-py3-none-any.whl size=46518 sha256=9b99ece004d990946f38f37307731c404ae009c7678ea1fcbd0f03c4bd74914b\n",
      "  Stored in directory: c:\\users\\creat\\appdata\\local\\pip\\cache\\wheels\\7a\\a1\\56\\7622b1310178320e5e10c110337e88a9848b5f3564000116d2\n",
      "  Building wheel for pyactiveresource (setup.py): started\n",
      "  Building wheel for pyactiveresource (setup.py): finished with status 'done'\n",
      "  Created wheel for pyactiveresource: filename=pyactiveresource-2.2.2-py3-none-any.whl size=23321 sha256=52f34c847ec0f028cc206bab9b18f9d915214fed39f5c75d9b1b9a3714baec3e\n",
      "  Stored in directory: c:\\users\\creat\\appdata\\local\\pip\\cache\\wheels\\99\\a6\\55\\85b9fc7579cc3202b477dd86bd66c4057844ca87e2b9ae7c20\n",
      "Successfully built ShopifyAPI pyactiveresource\n",
      "Installing collected packages: PyJWT, pyactiveresource, ShopifyAPI\n",
      "Successfully installed PyJWT-2.1.0 ShopifyAPI-8.4.2 pyactiveresource-2.2.2\n"
     ]
    }
   ],
   "source": [
    "! pip install --upgrade ShopifyAPI"
   ]
  }
 ],
 "metadata": {
  "kernelspec": {
   "display_name": "Python 3",
   "language": "python",
   "name": "python3"
  },
  "language_info": {
   "codemirror_mode": {
    "name": "ipython",
    "version": 3
   },
   "file_extension": ".py",
   "mimetype": "text/x-python",
   "name": "python",
   "nbconvert_exporter": "python",
   "pygments_lexer": "ipython3",
   "version": "3.8.5"
  }
 },
 "nbformat": 4,
 "nbformat_minor": 4
}
