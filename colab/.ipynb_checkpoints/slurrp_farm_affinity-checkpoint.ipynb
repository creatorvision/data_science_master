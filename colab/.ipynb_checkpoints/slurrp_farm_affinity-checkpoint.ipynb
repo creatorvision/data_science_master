{
 "cells": [
  {
   "cell_type": "code",
   "execution_count": null,
   "metadata": {},
   "outputs": [],
   "source": [
    "import shopify\n",
    "shop_url = \"https://shopify-website.myshopify.com/admin/themes/203128836/editor\" \n",
    "\n",
    "shopify.ShopifyResource.set_site(shop_url)\n",
    "shop = shopify.Shop.current()\n",
    "\n",
    "#How many orders & list them\n",
    "order = shopify.Order()\n",
    "num = order.count()\n",
    "print num\n",
    "success = order.find()\n",
    "print success"
   ]
  },
  {
   "cell_type": "code",
   "execution_count": null,
   "metadata": {},
   "outputs": [],
   "source": [
    "! pip install --upgrade ShopifyAPI"
   ]
  }
 ],
 "metadata": {
  "kernelspec": {
   "display_name": "Python 3",
   "language": "python",
   "name": "python3"
  },
  "language_info": {
   "codemirror_mode": {
    "name": "ipython",
    "version": 3
   },
   "file_extension": ".py",
   "mimetype": "text/x-python",
   "name": "python",
   "nbconvert_exporter": "python",
   "pygments_lexer": "ipython3",
   "version": "3.8.5"
  }
 },
 "nbformat": 4,
 "nbformat_minor": 4
}
